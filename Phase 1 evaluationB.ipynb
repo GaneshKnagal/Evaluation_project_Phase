{
 "cells": [
  {
   "cell_type": "markdown",
   "id": "f1bd56e2-da63-4701-bf0a-cae6ea0d6b43",
   "metadata": {},
   "source": [
    "Avocado Project"
   ]
  },
  {
   "cell_type": "markdown",
   "id": "bcec66ec-f49e-4a01-8682-637827dc8bac",
   "metadata": {},
   "source": [
    "1. Overview"
   ]
  },
  {
   "cell_type": "markdown",
   "id": "d79cb166-055f-4c44-b2fa-94268b9f862d",
   "metadata": {},
   "source": [
    "Project Description:- \n",
    "\n",
    "This data was downloaded from the Hass Avocado Board website in May of 2018 & compiled\n",
    "into a single CSV.The table below represents weekly 2018 retail scan data for National retail volume (units) and\n",
    "price. Retail scan data comes directly from retailers’ cash registers based on actual retail sales\n",
    "of Hass avocados.\n",
    "\n",
    "Starting in 2013, the table below reflects an expanded, multi-outlet retail data set. Multi-outlet\n",
    "reporting includes an aggregation of the following channels: grocery, mass, club, drug, dollar\n",
    "and military. The Average Price (of avocados) in the table reflects a per unit (per avocado) cost,\n",
    "even when multiple units (avocados) are sold in bags.\n",
    "\n",
    "The Product Lookup codes (PLU’s) in the table are only for Hass avocados. Other varieties of\n",
    "avocados (e.g. greenskins) are not included in this table.\n",
    "\n",
    "some relevant columns in the dataset:\n",
    "    \n",
    "Date - The date of the observation\n",
    "AveragePrice - the average price of a single avocado\n",
    "type - conventional or organic\n",
    "year - the year\n",
    "Region - the city or region of the observation\n",
    "Total Volume - Total number of avocados sold\n",
    "4046 - Total number of avocados with PLU 4046 sold\n",
    "4225 - Total number of avocados with PLU 4225 sold\n",
    "4770 - Total number of avocados with PLU 4770 sold    \n",
    "\n",
    "Inspiration /Label\n",
    "The dataset can be seen in two angles to find the region and find the average price .\n",
    "Task: One of Classification and other of Regression\n",
    "\n",
    "Dataset Link-\n",
    "https://github.com/dsrscientist/Data-Science-ML-Capstone-Projects/blob/master/avocado.csv.zip"
   ]
  },
  {
   "cell_type": "markdown",
   "id": "675a4b4d-0b18-411f-9054-accf1eaa9506",
   "metadata": {},
   "source": [
    "2.Importing Libraries & Data"
   ]
  },
  {
   "cell_type": "code",
   "execution_count": 1,
   "id": "777b134e-8e7f-42cb-ae12-321dda046d9c",
   "metadata": {},
   "outputs": [],
   "source": [
    "# Importing neccessary librarys\n",
    "import pandas as pd \n",
    "import numpy as np \n",
    "import seaborn as sns\n",
    "import matplotlib.pyplot as plt \n",
    "import warnings \n",
    "warnings.filterwarnings('ignore')"
   ]
  },
  {
   "cell_type": "code",
   "execution_count": 2,
   "id": "9be0abc2-5ba0-4499-8c78-64603baec384",
   "metadata": {},
   "outputs": [
    {
     "data": {
      "text/html": [
       "<div>\n",
       "<style scoped>\n",
       "    .dataframe tbody tr th:only-of-type {\n",
       "        vertical-align: middle;\n",
       "    }\n",
       "\n",
       "    .dataframe tbody tr th {\n",
       "        vertical-align: top;\n",
       "    }\n",
       "\n",
       "    .dataframe thead th {\n",
       "        text-align: right;\n",
       "    }\n",
       "</style>\n",
       "<table border=\"1\" class=\"dataframe\">\n",
       "  <thead>\n",
       "    <tr style=\"text-align: right;\">\n",
       "      <th></th>\n",
       "      <th>Unnamed: 0</th>\n",
       "      <th>Date</th>\n",
       "      <th>AveragePrice</th>\n",
       "      <th>Total Volume</th>\n",
       "      <th>4046</th>\n",
       "      <th>4225</th>\n",
       "      <th>4770</th>\n",
       "      <th>Total Bags</th>\n",
       "      <th>Small Bags</th>\n",
       "      <th>Large Bags</th>\n",
       "      <th>XLarge Bags</th>\n",
       "      <th>type</th>\n",
       "      <th>year</th>\n",
       "      <th>region</th>\n",
       "    </tr>\n",
       "  </thead>\n",
       "  <tbody>\n",
       "    <tr>\n",
       "      <th>0</th>\n",
       "      <td>0</td>\n",
       "      <td>2015-12-27</td>\n",
       "      <td>1.33</td>\n",
       "      <td>64236.62</td>\n",
       "      <td>1036.74</td>\n",
       "      <td>54454.85</td>\n",
       "      <td>48.16</td>\n",
       "      <td>8696.87</td>\n",
       "      <td>8603.62</td>\n",
       "      <td>93.25</td>\n",
       "      <td>0.0</td>\n",
       "      <td>conventional</td>\n",
       "      <td>2015</td>\n",
       "      <td>Albany</td>\n",
       "    </tr>\n",
       "    <tr>\n",
       "      <th>1</th>\n",
       "      <td>1</td>\n",
       "      <td>2015-12-20</td>\n",
       "      <td>1.35</td>\n",
       "      <td>54876.98</td>\n",
       "      <td>674.28</td>\n",
       "      <td>44638.81</td>\n",
       "      <td>58.33</td>\n",
       "      <td>9505.56</td>\n",
       "      <td>9408.07</td>\n",
       "      <td>97.49</td>\n",
       "      <td>0.0</td>\n",
       "      <td>conventional</td>\n",
       "      <td>2015</td>\n",
       "      <td>Albany</td>\n",
       "    </tr>\n",
       "    <tr>\n",
       "      <th>2</th>\n",
       "      <td>2</td>\n",
       "      <td>2015-12-13</td>\n",
       "      <td>0.93</td>\n",
       "      <td>118220.22</td>\n",
       "      <td>794.70</td>\n",
       "      <td>109149.67</td>\n",
       "      <td>130.50</td>\n",
       "      <td>8145.35</td>\n",
       "      <td>8042.21</td>\n",
       "      <td>103.14</td>\n",
       "      <td>0.0</td>\n",
       "      <td>conventional</td>\n",
       "      <td>2015</td>\n",
       "      <td>Albany</td>\n",
       "    </tr>\n",
       "    <tr>\n",
       "      <th>3</th>\n",
       "      <td>3</td>\n",
       "      <td>2015-12-06</td>\n",
       "      <td>1.08</td>\n",
       "      <td>78992.15</td>\n",
       "      <td>1132.00</td>\n",
       "      <td>71976.41</td>\n",
       "      <td>72.58</td>\n",
       "      <td>5811.16</td>\n",
       "      <td>5677.40</td>\n",
       "      <td>133.76</td>\n",
       "      <td>0.0</td>\n",
       "      <td>conventional</td>\n",
       "      <td>2015</td>\n",
       "      <td>Albany</td>\n",
       "    </tr>\n",
       "    <tr>\n",
       "      <th>4</th>\n",
       "      <td>4</td>\n",
       "      <td>2015-11-29</td>\n",
       "      <td>1.28</td>\n",
       "      <td>51039.60</td>\n",
       "      <td>941.48</td>\n",
       "      <td>43838.39</td>\n",
       "      <td>75.78</td>\n",
       "      <td>6183.95</td>\n",
       "      <td>5986.26</td>\n",
       "      <td>197.69</td>\n",
       "      <td>0.0</td>\n",
       "      <td>conventional</td>\n",
       "      <td>2015</td>\n",
       "      <td>Albany</td>\n",
       "    </tr>\n",
       "    <tr>\n",
       "      <th>5</th>\n",
       "      <td>5</td>\n",
       "      <td>2015-11-22</td>\n",
       "      <td>1.26</td>\n",
       "      <td>55979.78</td>\n",
       "      <td>1184.27</td>\n",
       "      <td>48067.99</td>\n",
       "      <td>43.61</td>\n",
       "      <td>6683.91</td>\n",
       "      <td>6556.47</td>\n",
       "      <td>127.44</td>\n",
       "      <td>0.0</td>\n",
       "      <td>conventional</td>\n",
       "      <td>2015</td>\n",
       "      <td>Albany</td>\n",
       "    </tr>\n",
       "    <tr>\n",
       "      <th>6</th>\n",
       "      <td>6</td>\n",
       "      <td>2015-11-15</td>\n",
       "      <td>0.99</td>\n",
       "      <td>83453.76</td>\n",
       "      <td>1368.92</td>\n",
       "      <td>73672.72</td>\n",
       "      <td>93.26</td>\n",
       "      <td>8318.86</td>\n",
       "      <td>8196.81</td>\n",
       "      <td>122.05</td>\n",
       "      <td>0.0</td>\n",
       "      <td>conventional</td>\n",
       "      <td>2015</td>\n",
       "      <td>Albany</td>\n",
       "    </tr>\n",
       "    <tr>\n",
       "      <th>7</th>\n",
       "      <td>7</td>\n",
       "      <td>2015-11-08</td>\n",
       "      <td>0.98</td>\n",
       "      <td>109428.33</td>\n",
       "      <td>703.75</td>\n",
       "      <td>101815.36</td>\n",
       "      <td>80.00</td>\n",
       "      <td>6829.22</td>\n",
       "      <td>6266.85</td>\n",
       "      <td>562.37</td>\n",
       "      <td>0.0</td>\n",
       "      <td>conventional</td>\n",
       "      <td>2015</td>\n",
       "      <td>Albany</td>\n",
       "    </tr>\n",
       "    <tr>\n",
       "      <th>8</th>\n",
       "      <td>8</td>\n",
       "      <td>2015-11-01</td>\n",
       "      <td>1.02</td>\n",
       "      <td>99811.42</td>\n",
       "      <td>1022.15</td>\n",
       "      <td>87315.57</td>\n",
       "      <td>85.34</td>\n",
       "      <td>11388.36</td>\n",
       "      <td>11104.53</td>\n",
       "      <td>283.83</td>\n",
       "      <td>0.0</td>\n",
       "      <td>conventional</td>\n",
       "      <td>2015</td>\n",
       "      <td>Albany</td>\n",
       "    </tr>\n",
       "    <tr>\n",
       "      <th>9</th>\n",
       "      <td>9</td>\n",
       "      <td>2015-10-25</td>\n",
       "      <td>1.07</td>\n",
       "      <td>74338.76</td>\n",
       "      <td>842.40</td>\n",
       "      <td>64757.44</td>\n",
       "      <td>113.00</td>\n",
       "      <td>8625.92</td>\n",
       "      <td>8061.47</td>\n",
       "      <td>564.45</td>\n",
       "      <td>0.0</td>\n",
       "      <td>conventional</td>\n",
       "      <td>2015</td>\n",
       "      <td>Albany</td>\n",
       "    </tr>\n",
       "  </tbody>\n",
       "</table>\n",
       "</div>"
      ],
      "text/plain": [
       "   Unnamed: 0        Date  AveragePrice  Total Volume     4046       4225  \\\n",
       "0           0  2015-12-27          1.33      64236.62  1036.74   54454.85   \n",
       "1           1  2015-12-20          1.35      54876.98   674.28   44638.81   \n",
       "2           2  2015-12-13          0.93     118220.22   794.70  109149.67   \n",
       "3           3  2015-12-06          1.08      78992.15  1132.00   71976.41   \n",
       "4           4  2015-11-29          1.28      51039.60   941.48   43838.39   \n",
       "5           5  2015-11-22          1.26      55979.78  1184.27   48067.99   \n",
       "6           6  2015-11-15          0.99      83453.76  1368.92   73672.72   \n",
       "7           7  2015-11-08          0.98     109428.33   703.75  101815.36   \n",
       "8           8  2015-11-01          1.02      99811.42  1022.15   87315.57   \n",
       "9           9  2015-10-25          1.07      74338.76   842.40   64757.44   \n",
       "\n",
       "     4770  Total Bags  Small Bags  Large Bags  XLarge Bags          type  \\\n",
       "0   48.16     8696.87     8603.62       93.25          0.0  conventional   \n",
       "1   58.33     9505.56     9408.07       97.49          0.0  conventional   \n",
       "2  130.50     8145.35     8042.21      103.14          0.0  conventional   \n",
       "3   72.58     5811.16     5677.40      133.76          0.0  conventional   \n",
       "4   75.78     6183.95     5986.26      197.69          0.0  conventional   \n",
       "5   43.61     6683.91     6556.47      127.44          0.0  conventional   \n",
       "6   93.26     8318.86     8196.81      122.05          0.0  conventional   \n",
       "7   80.00     6829.22     6266.85      562.37          0.0  conventional   \n",
       "8   85.34    11388.36    11104.53      283.83          0.0  conventional   \n",
       "9  113.00     8625.92     8061.47      564.45          0.0  conventional   \n",
       "\n",
       "   year  region  \n",
       "0  2015  Albany  \n",
       "1  2015  Albany  \n",
       "2  2015  Albany  \n",
       "3  2015  Albany  \n",
       "4  2015  Albany  \n",
       "5  2015  Albany  \n",
       "6  2015  Albany  \n",
       "7  2015  Albany  \n",
       "8  2015  Albany  \n",
       "9  2015  Albany  "
      ]
     },
     "execution_count": 2,
     "metadata": {},
     "output_type": "execute_result"
    }
   ],
   "source": [
    "# Load data set through pandas library\n",
    "df= pd.read_csv(r\"C:\\Users\\ganes\\Downloads\\avocado.csv\")\n",
    "df.head(10)"
   ]
  },
  {
   "cell_type": "code",
   "execution_count": 3,
   "id": "26f65b40-41fc-4525-88f4-bc87d4fd7dc4",
   "metadata": {},
   "outputs": [],
   "source": [
    "# we drop the first index column \n",
    "df = df.drop(df.columns[0], axis=1)"
   ]
  },
  {
   "cell_type": "code",
   "execution_count": 4,
   "id": "ddd90a77-39cd-4b9e-a402-0f72415b90a7",
   "metadata": {},
   "outputs": [
    {
     "data": {
      "text/html": [
       "<div>\n",
       "<style scoped>\n",
       "    .dataframe tbody tr th:only-of-type {\n",
       "        vertical-align: middle;\n",
       "    }\n",
       "\n",
       "    .dataframe tbody tr th {\n",
       "        vertical-align: top;\n",
       "    }\n",
       "\n",
       "    .dataframe thead th {\n",
       "        text-align: right;\n",
       "    }\n",
       "</style>\n",
       "<table border=\"1\" class=\"dataframe\">\n",
       "  <thead>\n",
       "    <tr style=\"text-align: right;\">\n",
       "      <th></th>\n",
       "      <th>Date</th>\n",
       "      <th>AveragePrice</th>\n",
       "      <th>Total Volume</th>\n",
       "      <th>4046</th>\n",
       "      <th>4225</th>\n",
       "      <th>4770</th>\n",
       "      <th>Total Bags</th>\n",
       "      <th>Small Bags</th>\n",
       "      <th>Large Bags</th>\n",
       "      <th>XLarge Bags</th>\n",
       "      <th>type</th>\n",
       "      <th>year</th>\n",
       "      <th>region</th>\n",
       "    </tr>\n",
       "  </thead>\n",
       "  <tbody>\n",
       "    <tr>\n",
       "      <th>0</th>\n",
       "      <td>2015-12-27</td>\n",
       "      <td>1.33</td>\n",
       "      <td>64236.62</td>\n",
       "      <td>1036.74</td>\n",
       "      <td>54454.85</td>\n",
       "      <td>48.16</td>\n",
       "      <td>8696.87</td>\n",
       "      <td>8603.62</td>\n",
       "      <td>93.25</td>\n",
       "      <td>0.0</td>\n",
       "      <td>conventional</td>\n",
       "      <td>2015</td>\n",
       "      <td>Albany</td>\n",
       "    </tr>\n",
       "    <tr>\n",
       "      <th>1</th>\n",
       "      <td>2015-12-20</td>\n",
       "      <td>1.35</td>\n",
       "      <td>54876.98</td>\n",
       "      <td>674.28</td>\n",
       "      <td>44638.81</td>\n",
       "      <td>58.33</td>\n",
       "      <td>9505.56</td>\n",
       "      <td>9408.07</td>\n",
       "      <td>97.49</td>\n",
       "      <td>0.0</td>\n",
       "      <td>conventional</td>\n",
       "      <td>2015</td>\n",
       "      <td>Albany</td>\n",
       "    </tr>\n",
       "    <tr>\n",
       "      <th>2</th>\n",
       "      <td>2015-12-13</td>\n",
       "      <td>0.93</td>\n",
       "      <td>118220.22</td>\n",
       "      <td>794.70</td>\n",
       "      <td>109149.67</td>\n",
       "      <td>130.50</td>\n",
       "      <td>8145.35</td>\n",
       "      <td>8042.21</td>\n",
       "      <td>103.14</td>\n",
       "      <td>0.0</td>\n",
       "      <td>conventional</td>\n",
       "      <td>2015</td>\n",
       "      <td>Albany</td>\n",
       "    </tr>\n",
       "    <tr>\n",
       "      <th>3</th>\n",
       "      <td>2015-12-06</td>\n",
       "      <td>1.08</td>\n",
       "      <td>78992.15</td>\n",
       "      <td>1132.00</td>\n",
       "      <td>71976.41</td>\n",
       "      <td>72.58</td>\n",
       "      <td>5811.16</td>\n",
       "      <td>5677.40</td>\n",
       "      <td>133.76</td>\n",
       "      <td>0.0</td>\n",
       "      <td>conventional</td>\n",
       "      <td>2015</td>\n",
       "      <td>Albany</td>\n",
       "    </tr>\n",
       "    <tr>\n",
       "      <th>4</th>\n",
       "      <td>2015-11-29</td>\n",
       "      <td>1.28</td>\n",
       "      <td>51039.60</td>\n",
       "      <td>941.48</td>\n",
       "      <td>43838.39</td>\n",
       "      <td>75.78</td>\n",
       "      <td>6183.95</td>\n",
       "      <td>5986.26</td>\n",
       "      <td>197.69</td>\n",
       "      <td>0.0</td>\n",
       "      <td>conventional</td>\n",
       "      <td>2015</td>\n",
       "      <td>Albany</td>\n",
       "    </tr>\n",
       "  </tbody>\n",
       "</table>\n",
       "</div>"
      ],
      "text/plain": [
       "         Date  AveragePrice  Total Volume     4046       4225    4770  \\\n",
       "0  2015-12-27          1.33      64236.62  1036.74   54454.85   48.16   \n",
       "1  2015-12-20          1.35      54876.98   674.28   44638.81   58.33   \n",
       "2  2015-12-13          0.93     118220.22   794.70  109149.67  130.50   \n",
       "3  2015-12-06          1.08      78992.15  1132.00   71976.41   72.58   \n",
       "4  2015-11-29          1.28      51039.60   941.48   43838.39   75.78   \n",
       "\n",
       "   Total Bags  Small Bags  Large Bags  XLarge Bags          type  year  region  \n",
       "0     8696.87     8603.62       93.25          0.0  conventional  2015  Albany  \n",
       "1     9505.56     9408.07       97.49          0.0  conventional  2015  Albany  \n",
       "2     8145.35     8042.21      103.14          0.0  conventional  2015  Albany  \n",
       "3     5811.16     5677.40      133.76          0.0  conventional  2015  Albany  \n",
       "4     6183.95     5986.26      197.69          0.0  conventional  2015  Albany  "
      ]
     },
     "execution_count": 4,
     "metadata": {},
     "output_type": "execute_result"
    }
   ],
   "source": [
    "df.head()"
   ]
  },
  {
   "cell_type": "markdown",
   "id": "1063d14f-7c32-445f-86fd-e92becd8674c",
   "metadata": {},
   "source": [
    "3.Exploratory Data Analyses"
   ]
  },
  {
   "cell_type": "markdown",
   "id": "08c1f658-bcbf-454f-bcf0-f595ce103d37",
   "metadata": {},
   "source": [
    "Statistics of Dataset"
   ]
  },
  {
   "cell_type": "code",
   "execution_count": 5,
   "id": "70f57747-6c74-4f45-a001-47c08210fce5",
   "metadata": {},
   "outputs": [
    {
     "data": {
      "text/plain": [
       "Date             object\n",
       "AveragePrice    float64\n",
       "Total Volume    float64\n",
       "4046            float64\n",
       "4225            float64\n",
       "4770            float64\n",
       "Total Bags      float64\n",
       "Small Bags      float64\n",
       "Large Bags      float64\n",
       "XLarge Bags     float64\n",
       "type             object\n",
       "year              int64\n",
       "region           object\n",
       "dtype: object"
      ]
     },
     "execution_count": 5,
     "metadata": {},
     "output_type": "execute_result"
    }
   ],
   "source": [
    "# Data type of columns \n",
    "df.dtypes"
   ]
  },
  {
   "cell_type": "code",
   "execution_count": 6,
   "id": "2248e4af-199c-4c0a-a2c5-6d9159c31e4e",
   "metadata": {},
   "outputs": [
    {
     "data": {
      "text/plain": [
       "(18249, 13)"
      ]
     },
     "execution_count": 6,
     "metadata": {},
     "output_type": "execute_result"
    }
   ],
   "source": [
    "# For checking dataset diemensions \n",
    "df.shape "
   ]
  },
  {
   "cell_type": "code",
   "execution_count": 7,
   "id": "2cf27e43-8044-44cc-9410-f5f7951a6327",
   "metadata": {},
   "outputs": [
    {
     "data": {
      "text/plain": [
       "Index(['Date', 'AveragePrice', 'Total Volume', '4046', '4225', '4770',\n",
       "       'Total Bags', 'Small Bags', 'Large Bags', 'XLarge Bags', 'type', 'year',\n",
       "       'region'],\n",
       "      dtype='object')"
      ]
     },
     "execution_count": 7,
     "metadata": {},
     "output_type": "execute_result"
    }
   ],
   "source": [
    "# Available columns in dataset \n",
    "df.columns"
   ]
  },
  {
   "cell_type": "markdown",
   "id": "47f1d9ef-462a-4ce2-a718-26c139f82e01",
   "metadata": {},
   "source": [
    "Descriptive statistics"
   ]
  },
  {
   "cell_type": "code",
   "execution_count": 8,
   "id": "c47d34a2-ab3f-491b-8105-c66ba2348880",
   "metadata": {},
   "outputs": [
    {
     "data": {
      "text/html": [
       "<div>\n",
       "<style scoped>\n",
       "    .dataframe tbody tr th:only-of-type {\n",
       "        vertical-align: middle;\n",
       "    }\n",
       "\n",
       "    .dataframe tbody tr th {\n",
       "        vertical-align: top;\n",
       "    }\n",
       "\n",
       "    .dataframe thead th {\n",
       "        text-align: right;\n",
       "    }\n",
       "</style>\n",
       "<table border=\"1\" class=\"dataframe\">\n",
       "  <thead>\n",
       "    <tr style=\"text-align: right;\">\n",
       "      <th></th>\n",
       "      <th>AveragePrice</th>\n",
       "      <th>Total Volume</th>\n",
       "      <th>4046</th>\n",
       "      <th>4225</th>\n",
       "      <th>4770</th>\n",
       "      <th>Total Bags</th>\n",
       "      <th>Small Bags</th>\n",
       "      <th>Large Bags</th>\n",
       "      <th>XLarge Bags</th>\n",
       "      <th>year</th>\n",
       "    </tr>\n",
       "  </thead>\n",
       "  <tbody>\n",
       "    <tr>\n",
       "      <th>count</th>\n",
       "      <td>18249.000000</td>\n",
       "      <td>1.824900e+04</td>\n",
       "      <td>1.824900e+04</td>\n",
       "      <td>1.824900e+04</td>\n",
       "      <td>1.824900e+04</td>\n",
       "      <td>1.824900e+04</td>\n",
       "      <td>1.824900e+04</td>\n",
       "      <td>1.824900e+04</td>\n",
       "      <td>18249.000000</td>\n",
       "      <td>18249.000000</td>\n",
       "    </tr>\n",
       "    <tr>\n",
       "      <th>mean</th>\n",
       "      <td>1.405978</td>\n",
       "      <td>8.506440e+05</td>\n",
       "      <td>2.930084e+05</td>\n",
       "      <td>2.951546e+05</td>\n",
       "      <td>2.283974e+04</td>\n",
       "      <td>2.396392e+05</td>\n",
       "      <td>1.821947e+05</td>\n",
       "      <td>5.433809e+04</td>\n",
       "      <td>3106.426507</td>\n",
       "      <td>2016.147899</td>\n",
       "    </tr>\n",
       "    <tr>\n",
       "      <th>std</th>\n",
       "      <td>0.402677</td>\n",
       "      <td>3.453545e+06</td>\n",
       "      <td>1.264989e+06</td>\n",
       "      <td>1.204120e+06</td>\n",
       "      <td>1.074641e+05</td>\n",
       "      <td>9.862424e+05</td>\n",
       "      <td>7.461785e+05</td>\n",
       "      <td>2.439660e+05</td>\n",
       "      <td>17692.894652</td>\n",
       "      <td>0.939938</td>\n",
       "    </tr>\n",
       "    <tr>\n",
       "      <th>min</th>\n",
       "      <td>0.440000</td>\n",
       "      <td>8.456000e+01</td>\n",
       "      <td>0.000000e+00</td>\n",
       "      <td>0.000000e+00</td>\n",
       "      <td>0.000000e+00</td>\n",
       "      <td>0.000000e+00</td>\n",
       "      <td>0.000000e+00</td>\n",
       "      <td>0.000000e+00</td>\n",
       "      <td>0.000000</td>\n",
       "      <td>2015.000000</td>\n",
       "    </tr>\n",
       "    <tr>\n",
       "      <th>25%</th>\n",
       "      <td>1.100000</td>\n",
       "      <td>1.083858e+04</td>\n",
       "      <td>8.540700e+02</td>\n",
       "      <td>3.008780e+03</td>\n",
       "      <td>0.000000e+00</td>\n",
       "      <td>5.088640e+03</td>\n",
       "      <td>2.849420e+03</td>\n",
       "      <td>1.274700e+02</td>\n",
       "      <td>0.000000</td>\n",
       "      <td>2015.000000</td>\n",
       "    </tr>\n",
       "    <tr>\n",
       "      <th>50%</th>\n",
       "      <td>1.370000</td>\n",
       "      <td>1.073768e+05</td>\n",
       "      <td>8.645300e+03</td>\n",
       "      <td>2.906102e+04</td>\n",
       "      <td>1.849900e+02</td>\n",
       "      <td>3.974383e+04</td>\n",
       "      <td>2.636282e+04</td>\n",
       "      <td>2.647710e+03</td>\n",
       "      <td>0.000000</td>\n",
       "      <td>2016.000000</td>\n",
       "    </tr>\n",
       "    <tr>\n",
       "      <th>75%</th>\n",
       "      <td>1.660000</td>\n",
       "      <td>4.329623e+05</td>\n",
       "      <td>1.110202e+05</td>\n",
       "      <td>1.502069e+05</td>\n",
       "      <td>6.243420e+03</td>\n",
       "      <td>1.107834e+05</td>\n",
       "      <td>8.333767e+04</td>\n",
       "      <td>2.202925e+04</td>\n",
       "      <td>132.500000</td>\n",
       "      <td>2017.000000</td>\n",
       "    </tr>\n",
       "    <tr>\n",
       "      <th>max</th>\n",
       "      <td>3.250000</td>\n",
       "      <td>6.250565e+07</td>\n",
       "      <td>2.274362e+07</td>\n",
       "      <td>2.047057e+07</td>\n",
       "      <td>2.546439e+06</td>\n",
       "      <td>1.937313e+07</td>\n",
       "      <td>1.338459e+07</td>\n",
       "      <td>5.719097e+06</td>\n",
       "      <td>551693.650000</td>\n",
       "      <td>2018.000000</td>\n",
       "    </tr>\n",
       "  </tbody>\n",
       "</table>\n",
       "</div>"
      ],
      "text/plain": [
       "       AveragePrice  Total Volume          4046          4225          4770  \\\n",
       "count  18249.000000  1.824900e+04  1.824900e+04  1.824900e+04  1.824900e+04   \n",
       "mean       1.405978  8.506440e+05  2.930084e+05  2.951546e+05  2.283974e+04   \n",
       "std        0.402677  3.453545e+06  1.264989e+06  1.204120e+06  1.074641e+05   \n",
       "min        0.440000  8.456000e+01  0.000000e+00  0.000000e+00  0.000000e+00   \n",
       "25%        1.100000  1.083858e+04  8.540700e+02  3.008780e+03  0.000000e+00   \n",
       "50%        1.370000  1.073768e+05  8.645300e+03  2.906102e+04  1.849900e+02   \n",
       "75%        1.660000  4.329623e+05  1.110202e+05  1.502069e+05  6.243420e+03   \n",
       "max        3.250000  6.250565e+07  2.274362e+07  2.047057e+07  2.546439e+06   \n",
       "\n",
       "         Total Bags    Small Bags    Large Bags    XLarge Bags          year  \n",
       "count  1.824900e+04  1.824900e+04  1.824900e+04   18249.000000  18249.000000  \n",
       "mean   2.396392e+05  1.821947e+05  5.433809e+04    3106.426507   2016.147899  \n",
       "std    9.862424e+05  7.461785e+05  2.439660e+05   17692.894652      0.939938  \n",
       "min    0.000000e+00  0.000000e+00  0.000000e+00       0.000000   2015.000000  \n",
       "25%    5.088640e+03  2.849420e+03  1.274700e+02       0.000000   2015.000000  \n",
       "50%    3.974383e+04  2.636282e+04  2.647710e+03       0.000000   2016.000000  \n",
       "75%    1.107834e+05  8.333767e+04  2.202925e+04     132.500000   2017.000000  \n",
       "max    1.937313e+07  1.338459e+07  5.719097e+06  551693.650000   2018.000000  "
      ]
     },
     "execution_count": 8,
     "metadata": {},
     "output_type": "execute_result"
    }
   ],
   "source": [
    "# Summarizing the distribution of the numerical variables.\n",
    "df.describe()"
   ]
  },
  {
   "cell_type": "markdown",
   "id": "427e2205-5f77-4240-9840-038d076a31d6",
   "metadata": {},
   "source": [
    "Above statistics shows that data is across all attributes is not in same range, so we will have to normalize the data first. The features are not on the same scale.Scaling can help with the convergence of gradient-based optimization algorithms and improve training stability."
   ]
  },
  {
   "cell_type": "code",
   "execution_count": 9,
   "id": "c7d8e54f-92f2-4283-af62-b9480d1b87c6",
   "metadata": {},
   "outputs": [
    {
     "name": "stdout",
     "output_type": "stream",
     "text": [
      "<class 'pandas.core.frame.DataFrame'>\n",
      "RangeIndex: 18249 entries, 0 to 18248\n",
      "Data columns (total 13 columns):\n",
      " #   Column        Non-Null Count  Dtype  \n",
      "---  ------        --------------  -----  \n",
      " 0   Date          18249 non-null  object \n",
      " 1   AveragePrice  18249 non-null  float64\n",
      " 2   Total Volume  18249 non-null  float64\n",
      " 3   4046          18249 non-null  float64\n",
      " 4   4225          18249 non-null  float64\n",
      " 5   4770          18249 non-null  float64\n",
      " 6   Total Bags    18249 non-null  float64\n",
      " 7   Small Bags    18249 non-null  float64\n",
      " 8   Large Bags    18249 non-null  float64\n",
      " 9   XLarge Bags   18249 non-null  float64\n",
      " 10  type          18249 non-null  object \n",
      " 11  year          18249 non-null  int64  \n",
      " 12  region        18249 non-null  object \n",
      "dtypes: float64(9), int64(1), object(3)\n",
      "memory usage: 1.8+ MB\n"
     ]
    }
   ],
   "source": [
    "df.info()"
   ]
  },
  {
   "cell_type": "code",
   "execution_count": 10,
   "id": "2e8e039d-85fc-4e3a-881d-99d6c3b190ce",
   "metadata": {},
   "outputs": [
    {
     "data": {
      "text/plain": [
       "54"
      ]
     },
     "execution_count": 10,
     "metadata": {},
     "output_type": "execute_result"
    }
   ],
   "source": [
    "# For checking unique value in label column \n",
    "df['region'].nunique()"
   ]
  },
  {
   "cell_type": "code",
   "execution_count": 11,
   "id": "04af3c2a-b9c8-40c0-a97b-b52dfbc74d66",
   "metadata": {},
   "outputs": [
    {
     "data": {
      "text/plain": [
       "Albany                 338\n",
       "Sacramento             338\n",
       "Northeast              338\n",
       "NorthernNewEngland     338\n",
       "Orlando                338\n",
       "Philadelphia           338\n",
       "PhoenixTucson          338\n",
       "Pittsburgh             338\n",
       "Plains                 338\n",
       "Portland               338\n",
       "RaleighGreensboro      338\n",
       "RichmondNorfolk        338\n",
       "Roanoke                338\n",
       "SanDiego               338\n",
       "Atlanta                338\n",
       "SanFrancisco           338\n",
       "Seattle                338\n",
       "SouthCarolina          338\n",
       "SouthCentral           338\n",
       "Southeast              338\n",
       "Spokane                338\n",
       "StLouis                338\n",
       "Syracuse               338\n",
       "Tampa                  338\n",
       "TotalUS                338\n",
       "West                   338\n",
       "NewYork                338\n",
       "NewOrleansMobile       338\n",
       "Nashville              338\n",
       "Midsouth               338\n",
       "BaltimoreWashington    338\n",
       "Boise                  338\n",
       "Boston                 338\n",
       "BuffaloRochester       338\n",
       "California             338\n",
       "Charlotte              338\n",
       "Chicago                338\n",
       "CincinnatiDayton       338\n",
       "Columbus               338\n",
       "DallasFtWorth          338\n",
       "Denver                 338\n",
       "Detroit                338\n",
       "GrandRapids            338\n",
       "GreatLakes             338\n",
       "HarrisburgScranton     338\n",
       "HartfordSpringfield    338\n",
       "Houston                338\n",
       "Indianapolis           338\n",
       "Jacksonville           338\n",
       "LasVegas               338\n",
       "LosAngeles             338\n",
       "Louisville             338\n",
       "MiamiFtLauderdale      338\n",
       "WestTexNewMexico       335\n",
       "Name: region, dtype: int64"
      ]
     },
     "execution_count": 11,
     "metadata": {},
     "output_type": "execute_result"
    }
   ],
   "source": [
    "df['region'].value_counts()"
   ]
  },
  {
   "cell_type": "markdown",
   "id": "e4b1d32f-6757-40cd-9bf4-7f5a0b95978c",
   "metadata": {},
   "source": [
    "Target variable data  is balanced."
   ]
  },
  {
   "cell_type": "markdown",
   "id": "f92eda9a-c438-4342-bc59-b1131e6faa6b",
   "metadata": {},
   "source": [
    "Data Visualization"
   ]
  },
  {
   "cell_type": "code",
   "execution_count": 12,
   "id": "7be3693d-9070-451b-a940-2cfcf8d4cd1a",
   "metadata": {},
   "outputs": [
    {
     "ename": "SyntaxError",
     "evalue": "invalid syntax (2153924294.py, line 1)",
     "output_type": "error",
     "traceback": [
      "\u001b[1;36m  Cell \u001b[1;32mIn[12], line 1\u001b[1;36m\u001b[0m\n\u001b[1;33m    1. Using Univariate Plots\u001b[0m\n\u001b[1;37m       ^\u001b[0m\n\u001b[1;31mSyntaxError\u001b[0m\u001b[1;31m:\u001b[0m invalid syntax\n"
     ]
    }
   ],
   "source": [
    "1. Using Univariate Plots"
   ]
  },
  {
   "cell_type": "code",
   "execution_count": null,
   "id": "ad6419f8-e548-48c5-9521-8e60702d560c",
   "metadata": {},
   "outputs": [],
   "source": [
    "# Define a list of numerical columns\n",
    "numerical_columns = ['AveragePrice', 'Total Volume', '4046', '4225', '4770', 'Total Bags', 'Small Bags', 'Large Bags', 'XLarge Bags', 'year']\n",
    "\n",
    "# Define a list of object columns\n",
    "object_columns = ['type', 'region']\n",
    "\n",
    "# Create univariate plots for numerical columns\n",
    "for column in numerical_columns:\n",
    "    plt.figure(figsize=(8, 4))  \n",
    "    sns.distplot(df[column], kde=True) \n",
    "    plt.title(f'Distribution of {column}')\n",
    "    plt.xlabel(column)\n",
    "    plt.ylabel('Frequency')\n",
    "    plt.show()\n",
    "\n",
    "# Create univariate plots for object columns\n",
    "for column in object_columns:\n",
    "    plt.figure(figsize=(8, 4))  \n",
    "    sns.countplot(data=df, x=column)  \n",
    "    plt.title(f'Count of {column}')\n",
    "    plt.xlabel(column,fontsize=4)\n",
    "    plt.ylabel('Count')\n",
    "    plt.xticks(rotation=90) \n",
    "    plt.show()\n"
   ]
  },
  {
   "cell_type": "markdown",
   "id": "a8741d51-a1ab-4e20-ae11-69046218ab5d",
   "metadata": {},
   "source": [
    "2.Using Multivariate Plots"
   ]
  },
  {
   "cell_type": "code",
   "execution_count": null,
   "id": "b69537a2-e8bc-47e6-aa38-4e8a1a815a1d",
   "metadata": {},
   "outputs": [],
   "source": [
    "# Pairplot for pairwise relationships between numeric features\n",
    "sns.pairplot(df , diag_kind='kde')\n",
    "plt.show()"
   ]
  },
  {
   "cell_type": "code",
   "execution_count": null,
   "id": "f1b809e3-ffba-41cc-a19b-852b12b50b21",
   "metadata": {},
   "outputs": [],
   "source": [
    "# Heatmap to visualize correlations between features\n",
    "correlation_matrix = df.corr()\n",
    "\n",
    "plt.figure(figsize=(12, 10))\n",
    "sns.set(font_scale=1.1)\n",
    "\n",
    "# Create a mask to hide the lower triangle of the heatmap\n",
    "mask = np.tri(*correlation_matrix.shape, k=-1, dtype=bool)\n",
    "\n",
    "sns.heatmap(correlation_matrix, annot=True, cmap='Greens', linewidths=0.5,fmt=\".2f\", annot_kws={\"size\": 8}, mask=mask)\n",
    "\n",
    "plt.yticks(rotation=0)   # Keep y-axis labels horizontal\n",
    "plt.title('Correlation Heatmap')\n",
    "plt.show()"
   ]
  },
  {
   "cell_type": "code",
   "execution_count": null,
   "id": "60ca379a-7d93-4192-a983-4ad2cc47e955",
   "metadata": {},
   "outputs": [],
   "source": [
    "# Boxplots to visualize the distribution of numeric feature\n",
    "plt.figure(figsize =(20,25))\n",
    "graph = 1\n",
    "\n",
    "for column in numerical_columns:\n",
    "    plt.subplot(6,3,graph)\n",
    "    ax=sns.boxplot(data=df[column])\n",
    "    plt.xlabel(column,fontsize = 15)\n",
    "    graph +=1\n",
    "plt.show()"
   ]
  },
  {
   "cell_type": "markdown",
   "id": "36dd8d88-8763-4769-8b9a-5719a30c736c",
   "metadata": {},
   "source": [
    "As we can see visual box-plot , all columns have large number of outlier. "
   ]
  },
  {
   "cell_type": "code",
   "execution_count": null,
   "id": "311bda85-ca3a-4cad-ab14-26cad0cabce5",
   "metadata": {},
   "outputs": [],
   "source": [
    "plt.figure(figsize =(20,25))\n",
    "graph = 1\n",
    "\n",
    "for column in numerical_columns:\n",
    "    plt.subplot(6,3,graph)\n",
    "    ax=sns.violinplot(data=df, y=column)\n",
    "    plt.xlabel(column,fontsize = 15)\n",
    "    graph +=1\n",
    "plt.show()"
   ]
  },
  {
   "cell_type": "markdown",
   "id": "8552775f-83f2-4178-8d7b-41ea3a7cf087",
   "metadata": {},
   "source": [
    "we also see the density of values around quartile range."
   ]
  },
  {
   "cell_type": "markdown",
   "id": "36497432-a4d4-42ca-bce6-7b39e2328fd7",
   "metadata": {},
   "source": [
    "4.Data Preprocessing"
   ]
  },
  {
   "cell_type": "markdown",
   "id": "5c2e912b-9fe8-4e22-aa9b-71de2f72538c",
   "metadata": {},
   "source": [
    "checking for null value in dataset nan,none"
   ]
  },
  {
   "cell_type": "code",
   "execution_count": null,
   "id": "48fba347-fa3b-4a35-a3ea-0c7c39cb4ff7",
   "metadata": {},
   "outputs": [],
   "source": [
    "df.isnull().sum()"
   ]
  },
  {
   "cell_type": "code",
   "execution_count": null,
   "id": "9362d9c7-f925-4292-93a6-3d4f78ef1ff7",
   "metadata": {},
   "outputs": [],
   "source": [
    "# converting Date column datatype as date \n",
    "df['Date'] = pd.to_datetime(df['Date'])"
   ]
  },
  {
   "cell_type": "code",
   "execution_count": null,
   "id": "19bd814b-be68-4d2d-b349-0ce24bd9bf0a",
   "metadata": {},
   "outputs": [],
   "source": [
    "df.info()"
   ]
  },
  {
   "cell_type": "markdown",
   "id": "842214a0-dd90-4948-96c3-4c6dad992925",
   "metadata": {},
   "source": [
    "Outlier removal"
   ]
  },
  {
   "cell_type": "code",
   "execution_count": null,
   "id": "ada1cc34-a0bd-4a4a-bb56-00c1729b2c59",
   "metadata": {},
   "outputs": [],
   "source": [
    "def remove_outliers_iqr(data, col_name, lower_factor=1.5, upper_factor=1.5):\n",
    "    q1 = data[col_name].quantile(0.25)\n",
    "    q3 = data[col_name].quantile(0.75)\n",
    "    iqr = q3 - q1\n",
    "    lower_bound = q1 - lower_factor * iqr\n",
    "    upper_bound = q3 + upper_factor * iqr\n",
    "    return data[(data[col_name] >= lower_bound) & (data[col_name] <= upper_bound)]\n",
    "\n",
    "# Apply function to each column\n",
    "numerical_columns \n",
    "for col in numerical_columns:\n",
    "    df = remove_outliers_iqr(df, col)\n",
    "\n",
    "# Print cleaned DataFrame\n",
    "df.head()"
   ]
  },
  {
   "cell_type": "code",
   "execution_count": null,
   "id": "98e7df43-af7e-452a-ae5f-d2ea5f059ebe",
   "metadata": {},
   "outputs": [],
   "source": [
    "# after outlier removal dataframe shape \n",
    "df.shape"
   ]
  },
  {
   "cell_type": "markdown",
   "id": "be67b9aa-a8fe-4a1c-878b-59fb13370a8e",
   "metadata": {},
   "source": [
    "Earlier dataframe shape was (18249, 13) . In outlier removal a huge data around 67% is cutoff from main datframe .This is huge losses of data. even if we custmization of outlier range still large number of data is removed . so we keep all data and apply some tranformation like log-transformation to reduce the impact of outliers ."
   ]
  },
  {
   "cell_type": "markdown",
   "id": "004b7413-91e7-4682-8c3a-19c353aedeb5",
   "metadata": {},
   "source": [
    "skewness removal"
   ]
  },
  {
   "cell_type": "code",
   "execution_count": null,
   "id": "a68c8cf7-4ba4-490b-92e1-dff741c202d7",
   "metadata": {},
   "outputs": [],
   "source": [
    "# Calculate the skewness of each column\n",
    "skewness = df.skew()\n",
    "print(\"Skewness of Columns:\")\n",
    "print(skewness)"
   ]
  },
  {
   "cell_type": "markdown",
   "id": "5124ef08-42cb-4fbf-b13f-28e68a69911b",
   "metadata": {},
   "source": [
    "Almost all columns are highly skewed. "
   ]
  },
  {
   "cell_type": "code",
   "execution_count": null,
   "id": "7aa9add9-7cfb-4d78-897f-129dfea4f876",
   "metadata": {},
   "outputs": [],
   "source": [
    "# Define a threshold for skewness (e.g., 0.5) above which you consider a column as skewed\n",
    "skew_threshold = 0.5\n",
    "\n",
    "skewed_columns = skewness[abs(skewness) > skew_threshold].index.tolist()\n",
    "\n",
    "# Apply skewness correction to the skewed columns using a transformation like the Box-Cox method\n",
    "for col in skewed_columns:\n",
    "    # Check for negative values (Box-Cox requires all values to be positive)\n",
    "    if (df[col] > 0).all():\n",
    "        df[col] = np.log1p(df[col])  # Log transformation\n",
    "    else:\n",
    "        df[col] = df[col] ** 0.5  # Square root transformation"
   ]
  },
  {
   "cell_type": "code",
   "execution_count": null,
   "id": "f2774653-56aa-40da-9aff-026505d67a28",
   "metadata": {},
   "outputs": [],
   "source": [
    "# Perform one-hot encoding for the 'type' column\n",
    "df = pd.get_dummies(df, columns=['type'], prefix=['type'])\n",
    "\n",
    "# Print the first few rows of the DataFrame to see the result\n",
    "print(df.head())"
   ]
  },
  {
   "cell_type": "code",
   "execution_count": null,
   "id": "3f5d4daa-0aea-4758-a638-3a7f008d9728",
   "metadata": {},
   "outputs": [],
   "source": []
  },
  {
   "cell_type": "markdown",
   "id": "6db817b3-a246-4dee-9367-809c4a9ac6c2",
   "metadata": {},
   "source": [
    "Normalization of data"
   ]
  },
  {
   "cell_type": "markdown",
   "id": "b93ecd05-5f6d-4732-97d1-85203d91a124",
   "metadata": {},
   "source": [
    "Classification Task- Finding the Region (Target variable)"
   ]
  },
  {
   "cell_type": "code",
   "execution_count": null,
   "id": "7897dce6-d491-47d3-bba2-a3ccbfbb8b56",
   "metadata": {},
   "outputs": [],
   "source": [
    "import pandas as pd\n",
    "from sklearn.preprocessing import StandardScaler\n",
    "from sklearn.model_selection import train_test_split\n",
    "from sklearn.svm import SVC  \n",
    "\n",
    "# Define the feature columns (excluding the target variable 'Region' and non-numeric columns)\n",
    "feature_columns = ['AveragePrice', 'Total Volume', '4046', '4225', '4770', 'Total Bags', 'Small Bags', 'Large Bags', 'XLarge Bags', 'year','type_conventional','type_organic']\n",
    "\n",
    "# Define the target variable\n",
    "target_column = 'region'\n",
    "\n",
    "# Split the data into features (X) and target (y)\n",
    "x = df[feature_columns]\n",
    "Y = df[target_column]\n"
   ]
  },
  {
   "cell_type": "code",
   "execution_count": null,
   "id": "f1114d94-bc00-4905-ba86-c0cc5e4e3ef7",
   "metadata": {},
   "outputs": [],
   "source": [
    "# Normalize the feature columns using StandardScaler\n",
    "scaler = StandardScaler()\n",
    "X = scaler.fit_transform(x)"
   ]
  },
  {
   "cell_type": "markdown",
   "id": "8222038f-856f-4309-b60c-c85d22161d8a",
   "metadata": {},
   "source": [
    "5.Model Development"
   ]
  },
  {
   "cell_type": "code",
   "execution_count": null,
   "id": "a69043fe-bac9-41cc-9070-4841eabd5d62",
   "metadata": {},
   "outputs": [],
   "source": [
    "#Importing Machine learning Model library\n",
    "from sklearn.svm  import SVC\n",
    "from sklearn.linear_model import LogisticRegression\n",
    "from sklearn.naive_bayes import MultinomialNB\n",
    "from sklearn.tree import DecisionTreeClassifier\n",
    "from sklearn.neighbors import KNeighborsClassifier\n",
    "from sklearn.ensemble import RandomForestClassifier,ExtraTreesClassifier\n",
    "from sklearn.ensemble import AdaBoostClassifier\n",
    "from sklearn.ensemble import GradientBoostingClassifier , AdaBoostClassifier , BaggingClassifier\n",
    "from sklearn.model_selection import train_test_split,cross_val_score\n",
    "from sklearn.metrics import confusion_matrix,classification_report,accuracy_score,f1_score,roc_curve"
   ]
  },
  {
   "cell_type": "markdown",
   "id": "5f690d8b-5b30-46f1-9e50-27d7bda63dd3",
   "metadata": {},
   "source": [
    "Splitting Data into train test "
   ]
  },
  {
   "cell_type": "code",
   "execution_count": null,
   "id": "12da870d-47f1-4fab-b89a-64ea0c296b1b",
   "metadata": {},
   "outputs": [],
   "source": [
    "X_train,X_test,Y_train,Y_test = train_test_split(X,Y,test_size=0.30, random_state=59)"
   ]
  },
  {
   "cell_type": "markdown",
   "id": "1397d277-8e1a-41d4-bdb3-675a78ae68c9",
   "metadata": {},
   "source": [
    "Classification Algorithms"
   ]
  },
  {
   "cell_type": "markdown",
   "id": "5e934e21-210b-48ba-a2d7-3ab907ceb571",
   "metadata": {},
   "source": [
    "Logistics Regression"
   ]
  },
  {
   "cell_type": "code",
   "execution_count": null,
   "id": "410c8632-99db-424d-942a-b95c9eac1a9a",
   "metadata": {},
   "outputs": [],
   "source": [
    "log_reg=LogisticRegression()\n",
    "log_reg.fit(X_train,Y_train)\n",
    "y_pred=log_reg.predict(X_test)\n",
    "print('Logistics Regression')\n",
    "print('Accuracy Score :', accuracy_score(Y_test, y_pred))\n",
    "print('Confusion matrix :',confusion_matrix(Y_test, y_pred))"
   ]
  },
  {
   "cell_type": "markdown",
   "id": "57ec35b7-50bd-4e55-b692-db26cec9b985",
   "metadata": {},
   "source": [
    "Decision Tree Classifier"
   ]
  },
  {
   "cell_type": "code",
   "execution_count": null,
   "id": "8eec5b59-6676-4d44-9e6c-35c4c86791e5",
   "metadata": {},
   "outputs": [],
   "source": [
    "DTC=DecisionTreeClassifier()\n",
    "DTC.fit(X_train,Y_train)\n",
    "y_pred=DTC.predict(X_test)\n",
    "print('Decision Tree Classifier')\n",
    "print('Accuracy Score :', accuracy_score(Y_test, y_pred))"
   ]
  },
  {
   "cell_type": "markdown",
   "id": "a02e24c0-c821-44ff-b4a3-484cafebb866",
   "metadata": {},
   "source": [
    "Random Forest Classifier"
   ]
  },
  {
   "cell_type": "code",
   "execution_count": null,
   "id": "d8718194-279b-4b9f-a7dc-63b19cae20d7",
   "metadata": {},
   "outputs": [],
   "source": [
    "RFC=RandomForestClassifier()\n",
    "RFC.fit(X_train,Y_train)\n",
    "y_pred=RFC.predict(X_test)\n",
    "print('Random Forest Classifier')\n",
    "print('Accuracy Score :', accuracy_score(Y_test, y_pred))\n",
    "Accu = accuracy_score(Y_test, y_pred)"
   ]
  },
  {
   "cell_type": "markdown",
   "id": "2cc24c38-d9e1-4806-8ae5-9c2ca6ae52b7",
   "metadata": {},
   "source": [
    "AdaBoost Classifier"
   ]
  },
  {
   "cell_type": "code",
   "execution_count": null,
   "id": "caae01e3-660c-4e3d-a16b-a5056a182305",
   "metadata": {},
   "outputs": [],
   "source": [
    "Abc=AdaBoostClassifier()\n",
    "Abc.fit(X_train,Y_train)\n",
    "y_pred=Abc.predict(X_test)\n",
    "print('AdaBoost Classifier')\n",
    "print('Accuracy Score :', accuracy_score(Y_test, y_pred))"
   ]
  },
  {
   "cell_type": "markdown",
   "id": "f9eb19c7-12b9-4c75-ae05-2a9f52f50102",
   "metadata": {},
   "source": [
    "Support Vector Machine Classifier"
   ]
  },
  {
   "cell_type": "code",
   "execution_count": null,
   "id": "1e1592ba-c68b-4081-9bf5-726dc506c514",
   "metadata": {},
   "outputs": [],
   "source": [
    "svc= SVC()\n",
    "svc.fit(X_train,Y_train)\n",
    "y_pred = svc.predict(X_test)\n",
    "print('Support Vector Machine Classifier')\n",
    "print('Accuracy Score :', accuracy_score(Y_test, y_pred))"
   ]
  },
  {
   "cell_type": "markdown",
   "id": "27cff017-b397-494c-8186-1bc2e4bc3de6",
   "metadata": {},
   "source": [
    "Bagging Classifier"
   ]
  },
  {
   "cell_type": "code",
   "execution_count": null,
   "id": "051d0e4e-8110-45b8-a900-4da8a33f525b",
   "metadata": {},
   "outputs": [],
   "source": [
    "BC= BaggingClassifier()\n",
    "BC.fit(X_train,Y_train)\n",
    "y_pred = BC.predict(X_test)\n",
    "print('Bagging Classifier')\n",
    "print('Accuracy Score :', accuracy_score(Y_test, y_pred))\n",
    "Accub = accuracy_score(Y_test, y_pred)"
   ]
  },
  {
   "cell_type": "markdown",
   "id": "68face08-21d6-491e-83fc-ce10cfc706d5",
   "metadata": {},
   "source": [
    "Random Forest Classifier gives highest Accuracy Score : 0.9000 ."
   ]
  },
  {
   "cell_type": "markdown",
   "id": "cadd9ed3-0fba-4062-bdcd-72d271a67243",
   "metadata": {},
   "source": [
    "Cross Validation Score"
   ]
  },
  {
   "cell_type": "code",
   "execution_count": null,
   "id": "36283089-6958-4ab9-9d69-82774a26933b",
   "metadata": {},
   "outputs": [],
   "source": [
    "from sklearn.model_selection import cross_val_score"
   ]
  },
  {
   "cell_type": "code",
   "execution_count": null,
   "id": "2d7511c9-745e-4f0b-bdc2-d144385c09a9",
   "metadata": {},
   "outputs": [],
   "source": [
    "# cross validation score for random forest classifier\n",
    "# By default CV=5 and Scoring parameter is accuracy \n",
    "\n",
    "score= cross_val_score(RFC,X,Y)\n",
    "print(score)\n",
    "print(score.mean())\n",
    "print('Difference between accuracy score and cross validation score is -', Accu-score.mean() )"
   ]
  },
  {
   "cell_type": "code",
   "execution_count": null,
   "id": "6769ea27-430d-46e0-a6bc-ffe53a1fc5f4",
   "metadata": {},
   "outputs": [],
   "source": [
    "# cross validation score for Bagging Classifier\n",
    "score= cross_val_score(BC,X,Y)\n",
    "print(score)\n",
    "print(score.mean())\n",
    "print('Difference between accuracy score and cross validation score is -',Accub-score.mean() )"
   ]
  },
  {
   "cell_type": "markdown",
   "id": "42aead12-8c2a-463d-9561-26688ab4aa5e",
   "metadata": {},
   "source": [
    "So our best model is random forest classifier which have less difference between accuracy score and cross validation score."
   ]
  },
  {
   "cell_type": "markdown",
   "id": "d979dcfb-5aa5-4471-8829-e9477d600e89",
   "metadata": {},
   "source": [
    "Hyper parameter tuning "
   ]
  },
  {
   "cell_type": "code",
   "execution_count": null,
   "id": "0a0071c8-1834-495d-a5cb-f3cc23f13dcf",
   "metadata": {},
   "outputs": [],
   "source": [
    "from sklearn.model_selection import train_test_split, GridSearchCV, RandomizedSearchCV\n",
    "# Create a Random Forest Classifier\n",
    "rf_classifier = RandomForestClassifier(random_state=59)\n",
    "\n",
    "# Define a grid of hyperparameters to search\n",
    "param_dist = {\n",
    "    'n_estimators': [50, 100, 200],  # Number of trees in the forest\n",
    "    'max_depth': [None, 10, 20, 30],  # Maximum depth of each tree\n",
    "    'min_samples_split': [2, 5, 10],  # Minimum samples required to split an internal node\n",
    "    'min_samples_leaf': [1, 2, 4],  # Minimum number of samples required to be a leaf node\n",
    "}\n"
   ]
  },
  {
   "cell_type": "code",
   "execution_count": null,
   "id": "f781ec74-359f-4f74-af6b-eae397de79b5",
   "metadata": {},
   "outputs": [],
   "source": [
    "# Perform Randomized Search with cross-validation to find the best hyperparameters\n",
    "random_search = RandomizedSearchCV(estimator=rf_classifier, param_distributions=param_dist, n_iter=10, cv=5, n_jobs=-1, verbose=2, random_state=59)\n",
    "random_search.fit(X_train, Y_train)"
   ]
  },
  {
   "cell_type": "code",
   "execution_count": null,
   "id": "20b3f974-ecf1-42f3-bac8-6cf754e071d2",
   "metadata": {},
   "outputs": [],
   "source": [
    "# Print the best hyperparameters and corresponding accuracy score\n",
    "print(\"Best Hyperparameters: \", random_search.best_params_)\n",
    "print(\"Best Accuracy Score: \", random_search.best_score_)\n",
    "\n",
    "# Evaluate the model with the best hyperparameters on the test data\n",
    "best_rf_classifier = random_search.best_estimator_\n",
    "test_accuracy = best_rf_classifier.score(X_test, Y_test)\n",
    "print(\"Test Accuracy: \", test_accuracy)"
   ]
  },
  {
   "cell_type": "markdown",
   "id": "f7601f9e-3f3f-4d02-8618-75bcde7a5a73",
   "metadata": {},
   "source": [
    "Final Model"
   ]
  },
  {
   "cell_type": "code",
   "execution_count": null,
   "id": "f76ce045-6f4f-487b-b20c-df4faae11759",
   "metadata": {},
   "outputs": [],
   "source": [
    "best_hyperparameters = random_search.best_params_"
   ]
  },
  {
   "cell_type": "code",
   "execution_count": null,
   "id": "1bef1fb6-21fd-4f06-9606-0ad547f1ffa3",
   "metadata": {},
   "outputs": [],
   "source": [
    "Final_model = RandomForestClassifier(**best_hyperparameters, random_state=59)\n",
    "Final_model.fit(X_train,Y_train)\n",
    "y_pred=Final_model.predict(X_test)\n",
    "print('Final Model Random Forest Classifier')\n",
    "print('Accuracy Score :', accuracy_score(Y_test, y_pred))\n",
    "print('Confusion matrix :',confusion_matrix(Y_test, y_pred))\n",
    "print('classification Report :',classification_report(Y_test, y_pred))"
   ]
  },
  {
   "cell_type": "markdown",
   "id": "9afa9eef-e9d5-42a3-b7ac-0b289de30c56",
   "metadata": {},
   "source": [
    "Saving the Model"
   ]
  },
  {
   "cell_type": "code",
   "execution_count": null,
   "id": "aa5f651f-aa90-4340-8af8-a4979b1d7012",
   "metadata": {},
   "outputs": [],
   "source": [
    "import joblib \n",
    "joblib.dump(Final_model,'Avocado Project.pkl')"
   ]
  },
  {
   "cell_type": "markdown",
   "id": "e2eca314-c308-4c79-9d4b-84d0ab8e6465",
   "metadata": {},
   "source": [
    "Predicting Saving Model"
   ]
  },
  {
   "cell_type": "code",
   "execution_count": null,
   "id": "a5dd5a55-c4ac-4744-9347-8a8337411d1d",
   "metadata": {},
   "outputs": [],
   "source": [
    "prediction = Final_model.predict(X_test)"
   ]
  },
  {
   "cell_type": "code",
   "execution_count": null,
   "id": "7fc1ceee-bb13-4824-b1ca-4366b8a89625",
   "metadata": {},
   "outputs": [],
   "source": [
    "Actual = np.array(Y_test)\n",
    "df_pred = pd.DataFrame()\n",
    "df_pred[\"Predicted Region\"] = prediction\n",
    "df_pred[\"Actual Region\"] = Actual\n",
    "df_pred.head(10)"
   ]
  },
  {
   "cell_type": "markdown",
   "id": "c421006f-e2e6-4e77-8e8b-215abfd20709",
   "metadata": {},
   "source": [
    "We can see that model is accurately predicte the region."
   ]
  },
  {
   "cell_type": "code",
   "execution_count": null,
   "id": "14ee8b1a-4584-4f0f-8fc5-562f34edeab9",
   "metadata": {},
   "outputs": [],
   "source": []
  },
  {
   "cell_type": "code",
   "execution_count": null,
   "id": "c2fe5374-58fc-46ac-9c75-0cb6917b90d9",
   "metadata": {},
   "outputs": [],
   "source": []
  },
  {
   "cell_type": "code",
   "execution_count": null,
   "id": "152790b4-bfc3-4408-b04b-ce2c9b80b447",
   "metadata": {},
   "outputs": [],
   "source": []
  },
  {
   "cell_type": "markdown",
   "id": "f32e8301-1fad-40c9-891f-add7351fd658",
   "metadata": {},
   "source": [
    "2.Regression Task- Finding the Average Price (Target variable)"
   ]
  },
  {
   "cell_type": "code",
   "execution_count": 13,
   "id": "89dca5c7",
   "metadata": {},
   "outputs": [],
   "source": [
    "# Importing neccessary librarys\n",
    "import pandas as pd \n",
    "import numpy as np \n",
    "import seaborn as sns\n",
    "import matplotlib.pyplot as plt \n",
    "import warnings \n",
    "warnings.filterwarnings('ignore')"
   ]
  },
  {
   "cell_type": "code",
   "execution_count": 14,
   "id": "8b373358",
   "metadata": {},
   "outputs": [
    {
     "data": {
      "text/html": [
       "<div>\n",
       "<style scoped>\n",
       "    .dataframe tbody tr th:only-of-type {\n",
       "        vertical-align: middle;\n",
       "    }\n",
       "\n",
       "    .dataframe tbody tr th {\n",
       "        vertical-align: top;\n",
       "    }\n",
       "\n",
       "    .dataframe thead th {\n",
       "        text-align: right;\n",
       "    }\n",
       "</style>\n",
       "<table border=\"1\" class=\"dataframe\">\n",
       "  <thead>\n",
       "    <tr style=\"text-align: right;\">\n",
       "      <th></th>\n",
       "      <th>Date</th>\n",
       "      <th>AveragePrice</th>\n",
       "      <th>Total Volume</th>\n",
       "      <th>4046</th>\n",
       "      <th>4225</th>\n",
       "      <th>4770</th>\n",
       "      <th>Total Bags</th>\n",
       "      <th>Small Bags</th>\n",
       "      <th>Large Bags</th>\n",
       "      <th>XLarge Bags</th>\n",
       "      <th>type</th>\n",
       "      <th>year</th>\n",
       "      <th>region</th>\n",
       "    </tr>\n",
       "  </thead>\n",
       "  <tbody>\n",
       "    <tr>\n",
       "      <th>0</th>\n",
       "      <td>2015-12-27</td>\n",
       "      <td>1.33</td>\n",
       "      <td>64236.62</td>\n",
       "      <td>1036.74</td>\n",
       "      <td>54454.85</td>\n",
       "      <td>48.16</td>\n",
       "      <td>8696.87</td>\n",
       "      <td>8603.62</td>\n",
       "      <td>93.25</td>\n",
       "      <td>0.0</td>\n",
       "      <td>conventional</td>\n",
       "      <td>2015</td>\n",
       "      <td>Albany</td>\n",
       "    </tr>\n",
       "    <tr>\n",
       "      <th>1</th>\n",
       "      <td>2015-12-20</td>\n",
       "      <td>1.35</td>\n",
       "      <td>54876.98</td>\n",
       "      <td>674.28</td>\n",
       "      <td>44638.81</td>\n",
       "      <td>58.33</td>\n",
       "      <td>9505.56</td>\n",
       "      <td>9408.07</td>\n",
       "      <td>97.49</td>\n",
       "      <td>0.0</td>\n",
       "      <td>conventional</td>\n",
       "      <td>2015</td>\n",
       "      <td>Albany</td>\n",
       "    </tr>\n",
       "    <tr>\n",
       "      <th>2</th>\n",
       "      <td>2015-12-13</td>\n",
       "      <td>0.93</td>\n",
       "      <td>118220.22</td>\n",
       "      <td>794.70</td>\n",
       "      <td>109149.67</td>\n",
       "      <td>130.50</td>\n",
       "      <td>8145.35</td>\n",
       "      <td>8042.21</td>\n",
       "      <td>103.14</td>\n",
       "      <td>0.0</td>\n",
       "      <td>conventional</td>\n",
       "      <td>2015</td>\n",
       "      <td>Albany</td>\n",
       "    </tr>\n",
       "    <tr>\n",
       "      <th>3</th>\n",
       "      <td>2015-12-06</td>\n",
       "      <td>1.08</td>\n",
       "      <td>78992.15</td>\n",
       "      <td>1132.00</td>\n",
       "      <td>71976.41</td>\n",
       "      <td>72.58</td>\n",
       "      <td>5811.16</td>\n",
       "      <td>5677.40</td>\n",
       "      <td>133.76</td>\n",
       "      <td>0.0</td>\n",
       "      <td>conventional</td>\n",
       "      <td>2015</td>\n",
       "      <td>Albany</td>\n",
       "    </tr>\n",
       "    <tr>\n",
       "      <th>4</th>\n",
       "      <td>2015-11-29</td>\n",
       "      <td>1.28</td>\n",
       "      <td>51039.60</td>\n",
       "      <td>941.48</td>\n",
       "      <td>43838.39</td>\n",
       "      <td>75.78</td>\n",
       "      <td>6183.95</td>\n",
       "      <td>5986.26</td>\n",
       "      <td>197.69</td>\n",
       "      <td>0.0</td>\n",
       "      <td>conventional</td>\n",
       "      <td>2015</td>\n",
       "      <td>Albany</td>\n",
       "    </tr>\n",
       "  </tbody>\n",
       "</table>\n",
       "</div>"
      ],
      "text/plain": [
       "         Date  AveragePrice  Total Volume     4046       4225    4770  \\\n",
       "0  2015-12-27          1.33      64236.62  1036.74   54454.85   48.16   \n",
       "1  2015-12-20          1.35      54876.98   674.28   44638.81   58.33   \n",
       "2  2015-12-13          0.93     118220.22   794.70  109149.67  130.50   \n",
       "3  2015-12-06          1.08      78992.15  1132.00   71976.41   72.58   \n",
       "4  2015-11-29          1.28      51039.60   941.48   43838.39   75.78   \n",
       "\n",
       "   Total Bags  Small Bags  Large Bags  XLarge Bags          type  year  region  \n",
       "0     8696.87     8603.62       93.25          0.0  conventional  2015  Albany  \n",
       "1     9505.56     9408.07       97.49          0.0  conventional  2015  Albany  \n",
       "2     8145.35     8042.21      103.14          0.0  conventional  2015  Albany  \n",
       "3     5811.16     5677.40      133.76          0.0  conventional  2015  Albany  \n",
       "4     6183.95     5986.26      197.69          0.0  conventional  2015  Albany  "
      ]
     },
     "execution_count": 14,
     "metadata": {},
     "output_type": "execute_result"
    }
   ],
   "source": [
    "# Load data set through pandas library\n",
    "df= pd.read_csv(r\"C:\\Users\\ganes\\Downloads\\avocado.csv\")\n",
    "# we drop the first index column \n",
    "df = df.drop(df.columns[0], axis=1)\n",
    "df.head()"
   ]
  },
  {
   "cell_type": "code",
   "execution_count": 15,
   "id": "7ad49ad1",
   "metadata": {},
   "outputs": [
    {
     "name": "stdout",
     "output_type": "stream",
     "text": [
      "Skewness of Columns:\n",
      "AveragePrice     0.580303\n",
      "Total Volume     9.007687\n",
      "4046             8.648220\n",
      "4225             8.942466\n",
      "4770            10.159396\n",
      "Total Bags       9.756072\n",
      "Small Bags       9.540660\n",
      "Large Bags       9.796455\n",
      "XLarge Bags     13.139751\n",
      "year             0.215339\n",
      "dtype: float64\n"
     ]
    }
   ],
   "source": [
    "# Calculate the skewness of each column\n",
    "skewness = df.skew()\n",
    "print(\"Skewness of Columns:\")\n",
    "print(skewness)"
   ]
  },
  {
   "cell_type": "code",
   "execution_count": 16,
   "id": "72e26fec",
   "metadata": {},
   "outputs": [],
   "source": [
    "# Define a threshold for skewness (e.g., 0.5) above which you consider a column as skewed\n",
    "skew_threshold = 0.5\n",
    "\n",
    "skewed_columns = skewness[abs(skewness) > skew_threshold].index.tolist()\n",
    "\n",
    "# Apply skewness correction to the skewed columns using a transformation like the Box-Cox method\n",
    "for col in skewed_columns:\n",
    "    # Check for negative values (Box-Cox requires all values to be positive)\n",
    "    if (df[col] > 0).all():\n",
    "        df[col] = np.log1p(df[col])  # Log transformation\n",
    "    else:\n",
    "        df[col] = df[col] ** 0.5  # Square root transformation"
   ]
  },
  {
   "cell_type": "code",
   "execution_count": 17,
   "id": "50959683",
   "metadata": {},
   "outputs": [
    {
     "data": {
      "text/html": [
       "<div>\n",
       "<style scoped>\n",
       "    .dataframe tbody tr th:only-of-type {\n",
       "        vertical-align: middle;\n",
       "    }\n",
       "\n",
       "    .dataframe tbody tr th {\n",
       "        vertical-align: top;\n",
       "    }\n",
       "\n",
       "    .dataframe thead th {\n",
       "        text-align: right;\n",
       "    }\n",
       "</style>\n",
       "<table border=\"1\" class=\"dataframe\">\n",
       "  <thead>\n",
       "    <tr style=\"text-align: right;\">\n",
       "      <th></th>\n",
       "      <th>Date</th>\n",
       "      <th>AveragePrice</th>\n",
       "      <th>Total Volume</th>\n",
       "      <th>4046</th>\n",
       "      <th>4225</th>\n",
       "      <th>4770</th>\n",
       "      <th>Total Bags</th>\n",
       "      <th>Small Bags</th>\n",
       "      <th>Large Bags</th>\n",
       "      <th>XLarge Bags</th>\n",
       "      <th>year</th>\n",
       "      <th>region</th>\n",
       "      <th>type_conventional</th>\n",
       "      <th>type_organic</th>\n",
       "    </tr>\n",
       "  </thead>\n",
       "  <tbody>\n",
       "    <tr>\n",
       "      <th>0</th>\n",
       "      <td>2015-12-27</td>\n",
       "      <td>0.845868</td>\n",
       "      <td>11.070344</td>\n",
       "      <td>32.198447</td>\n",
       "      <td>233.355630</td>\n",
       "      <td>6.939741</td>\n",
       "      <td>93.257010</td>\n",
       "      <td>92.755701</td>\n",
       "      <td>9.656604</td>\n",
       "      <td>0.0</td>\n",
       "      <td>2015</td>\n",
       "      <td>Albany</td>\n",
       "      <td>1</td>\n",
       "      <td>0</td>\n",
       "    </tr>\n",
       "    <tr>\n",
       "      <th>1</th>\n",
       "      <td>2015-12-20</td>\n",
       "      <td>0.854415</td>\n",
       "      <td>10.912867</td>\n",
       "      <td>25.966902</td>\n",
       "      <td>211.278986</td>\n",
       "      <td>7.637408</td>\n",
       "      <td>97.496461</td>\n",
       "      <td>96.995206</td>\n",
       "      <td>9.873702</td>\n",
       "      <td>0.0</td>\n",
       "      <td>2015</td>\n",
       "      <td>Albany</td>\n",
       "      <td>1</td>\n",
       "      <td>0</td>\n",
       "    </tr>\n",
       "    <tr>\n",
       "      <th>2</th>\n",
       "      <td>2015-12-13</td>\n",
       "      <td>0.657520</td>\n",
       "      <td>11.680313</td>\n",
       "      <td>28.190424</td>\n",
       "      <td>330.378071</td>\n",
       "      <td>11.423660</td>\n",
       "      <td>90.251593</td>\n",
       "      <td>89.678370</td>\n",
       "      <td>10.155787</td>\n",
       "      <td>0.0</td>\n",
       "      <td>2015</td>\n",
       "      <td>Albany</td>\n",
       "      <td>1</td>\n",
       "      <td>0</td>\n",
       "    </tr>\n",
       "    <tr>\n",
       "      <th>3</th>\n",
       "      <td>2015-12-06</td>\n",
       "      <td>0.732368</td>\n",
       "      <td>11.277116</td>\n",
       "      <td>33.645208</td>\n",
       "      <td>268.284196</td>\n",
       "      <td>8.519390</td>\n",
       "      <td>76.230965</td>\n",
       "      <td>75.348524</td>\n",
       "      <td>11.565466</td>\n",
       "      <td>0.0</td>\n",
       "      <td>2015</td>\n",
       "      <td>Albany</td>\n",
       "      <td>1</td>\n",
       "      <td>0</td>\n",
       "    </tr>\n",
       "    <tr>\n",
       "      <th>4</th>\n",
       "      <td>2015-11-29</td>\n",
       "      <td>0.824175</td>\n",
       "      <td>10.840377</td>\n",
       "      <td>30.683546</td>\n",
       "      <td>209.376193</td>\n",
       "      <td>8.705171</td>\n",
       "      <td>78.638095</td>\n",
       "      <td>77.370925</td>\n",
       "      <td>14.060228</td>\n",
       "      <td>0.0</td>\n",
       "      <td>2015</td>\n",
       "      <td>Albany</td>\n",
       "      <td>1</td>\n",
       "      <td>0</td>\n",
       "    </tr>\n",
       "  </tbody>\n",
       "</table>\n",
       "</div>"
      ],
      "text/plain": [
       "         Date  AveragePrice  Total Volume       4046        4225       4770  \\\n",
       "0  2015-12-27      0.845868     11.070344  32.198447  233.355630   6.939741   \n",
       "1  2015-12-20      0.854415     10.912867  25.966902  211.278986   7.637408   \n",
       "2  2015-12-13      0.657520     11.680313  28.190424  330.378071  11.423660   \n",
       "3  2015-12-06      0.732368     11.277116  33.645208  268.284196   8.519390   \n",
       "4  2015-11-29      0.824175     10.840377  30.683546  209.376193   8.705171   \n",
       "\n",
       "   Total Bags  Small Bags  Large Bags  XLarge Bags  year  region  \\\n",
       "0   93.257010   92.755701    9.656604          0.0  2015  Albany   \n",
       "1   97.496461   96.995206    9.873702          0.0  2015  Albany   \n",
       "2   90.251593   89.678370   10.155787          0.0  2015  Albany   \n",
       "3   76.230965   75.348524   11.565466          0.0  2015  Albany   \n",
       "4   78.638095   77.370925   14.060228          0.0  2015  Albany   \n",
       "\n",
       "   type_conventional  type_organic  \n",
       "0                  1             0  \n",
       "1                  1             0  \n",
       "2                  1             0  \n",
       "3                  1             0  \n",
       "4                  1             0  "
      ]
     },
     "execution_count": 17,
     "metadata": {},
     "output_type": "execute_result"
    }
   ],
   "source": [
    "# Perform one-hot encoding for the 'type' column\n",
    "df = pd.get_dummies(df, columns=['type'], prefix=['type'])\n",
    "\n",
    "# Print the first few rows of the DataFrame to see the result\n",
    "df.head()"
   ]
  },
  {
   "cell_type": "code",
   "execution_count": 18,
   "id": "18d37267",
   "metadata": {},
   "outputs": [
    {
     "name": "stdout",
     "output_type": "stream",
     "text": [
      "Requirement already satisfied: category_encoders in c:\\users\\ganes\\anaconda3\\lib\\site-packages (2.6.2)\n",
      "Requirement already satisfied: scikit-learn>=0.20.0 in c:\\users\\ganes\\anaconda3\\lib\\site-packages (from category_encoders) (1.2.1)\n",
      "Requirement already satisfied: statsmodels>=0.9.0 in c:\\users\\ganes\\anaconda3\\lib\\site-packages (from category_encoders) (0.13.5)\n",
      "Requirement already satisfied: numpy>=1.14.0 in c:\\users\\ganes\\anaconda3\\lib\\site-packages (from category_encoders) (1.23.5)\n",
      "Requirement already satisfied: patsy>=0.5.1 in c:\\users\\ganes\\anaconda3\\lib\\site-packages (from category_encoders) (0.5.3)\n",
      "Requirement already satisfied: scipy>=1.0.0 in c:\\users\\ganes\\anaconda3\\lib\\site-packages (from category_encoders) (1.10.0)\n",
      "Requirement already satisfied: pandas>=1.0.5 in c:\\users\\ganes\\anaconda3\\lib\\site-packages (from category_encoders) (1.5.3)\n",
      "Requirement already satisfied: pytz>=2020.1 in c:\\users\\ganes\\anaconda3\\lib\\site-packages (from pandas>=1.0.5->category_encoders) (2022.7)\n",
      "Requirement already satisfied: python-dateutil>=2.8.1 in c:\\users\\ganes\\anaconda3\\lib\\site-packages (from pandas>=1.0.5->category_encoders) (2.8.2)\n",
      "Requirement already satisfied: six in c:\\users\\ganes\\anaconda3\\lib\\site-packages (from patsy>=0.5.1->category_encoders) (1.16.0)\n",
      "Requirement already satisfied: joblib>=1.1.1 in c:\\users\\ganes\\anaconda3\\lib\\site-packages (from scikit-learn>=0.20.0->category_encoders) (1.1.1)\n",
      "Requirement already satisfied: threadpoolctl>=2.0.0 in c:\\users\\ganes\\anaconda3\\lib\\site-packages (from scikit-learn>=0.20.0->category_encoders) (2.2.0)\n",
      "Requirement already satisfied: packaging>=21.3 in c:\\users\\ganes\\anaconda3\\lib\\site-packages (from statsmodels>=0.9.0->category_encoders) (22.0)\n",
      "Note: you may need to restart the kernel to use updated packages.\n"
     ]
    }
   ],
   "source": [
    "pip install category_encoders"
   ]
  },
  {
   "cell_type": "code",
   "execution_count": 19,
   "id": "4088ffc1",
   "metadata": {},
   "outputs": [],
   "source": [
    "import category_encoders as ce\n",
    "\n",
    "# Initialize BinaryEncoder\n",
    "encoder = ce.BinaryEncoder(cols=['region'])\n",
    "\n",
    "# Apply Binary Encoding to the 'Region' column\n",
    "df = encoder.fit_transform(df)\n",
    "\n",
    "# The 'Region' column will be replaced with binary-encoded columns\n"
   ]
  },
  {
   "cell_type": "raw",
   "id": "17efcb48",
   "metadata": {},
   "source": [
    "# Extract relevant date component such as month. These components can capture seasonal, monthly based  patterns."
   ]
  },
  {
   "cell_type": "code",
   "execution_count": 20,
   "id": "927277f4",
   "metadata": {},
   "outputs": [],
   "source": [
    "# Assuming your Date column is in a DataFrame called 'df'\n",
    "df['Date'] = pd.to_datetime(df['Date'])"
   ]
  },
  {
   "cell_type": "code",
   "execution_count": 21,
   "id": "efcf345e",
   "metadata": {},
   "outputs": [],
   "source": [
    "# Extract the month from the Date column\n",
    "df['Month'] = df['Date'].dt.month\n",
    "\n",
    "# Apply cyclical encoding for month\n",
    "df['Month_sin'] = np.sin(2 * np.pi * df['Month'] / 12)\n",
    "df['Month_cos'] = np.cos(2 * np.pi * df['Month'] / 12)\n",
    "\n",
    "# Drop the original 'Month' column \n",
    "df.drop(columns=['Month'], inplace=True)\n"
   ]
  },
  {
   "cell_type": "code",
   "execution_count": 22,
   "id": "07bedc9b",
   "metadata": {},
   "outputs": [
    {
     "data": {
      "text/html": [
       "<div>\n",
       "<style scoped>\n",
       "    .dataframe tbody tr th:only-of-type {\n",
       "        vertical-align: middle;\n",
       "    }\n",
       "\n",
       "    .dataframe tbody tr th {\n",
       "        vertical-align: top;\n",
       "    }\n",
       "\n",
       "    .dataframe thead th {\n",
       "        text-align: right;\n",
       "    }\n",
       "</style>\n",
       "<table border=\"1\" class=\"dataframe\">\n",
       "  <thead>\n",
       "    <tr style=\"text-align: right;\">\n",
       "      <th></th>\n",
       "      <th>Date</th>\n",
       "      <th>AveragePrice</th>\n",
       "      <th>Total Volume</th>\n",
       "      <th>4046</th>\n",
       "      <th>4225</th>\n",
       "      <th>4770</th>\n",
       "      <th>Total Bags</th>\n",
       "      <th>Small Bags</th>\n",
       "      <th>Large Bags</th>\n",
       "      <th>XLarge Bags</th>\n",
       "      <th>...</th>\n",
       "      <th>region_0</th>\n",
       "      <th>region_1</th>\n",
       "      <th>region_2</th>\n",
       "      <th>region_3</th>\n",
       "      <th>region_4</th>\n",
       "      <th>region_5</th>\n",
       "      <th>type_conventional</th>\n",
       "      <th>type_organic</th>\n",
       "      <th>Month_sin</th>\n",
       "      <th>Month_cos</th>\n",
       "    </tr>\n",
       "  </thead>\n",
       "  <tbody>\n",
       "    <tr>\n",
       "      <th>0</th>\n",
       "      <td>2015-12-27</td>\n",
       "      <td>0.845868</td>\n",
       "      <td>11.070344</td>\n",
       "      <td>32.198447</td>\n",
       "      <td>233.355630</td>\n",
       "      <td>6.939741</td>\n",
       "      <td>93.257010</td>\n",
       "      <td>92.755701</td>\n",
       "      <td>9.656604</td>\n",
       "      <td>0.0</td>\n",
       "      <td>...</td>\n",
       "      <td>0</td>\n",
       "      <td>0</td>\n",
       "      <td>0</td>\n",
       "      <td>0</td>\n",
       "      <td>0</td>\n",
       "      <td>1</td>\n",
       "      <td>1</td>\n",
       "      <td>0</td>\n",
       "      <td>-2.449294e-16</td>\n",
       "      <td>1.000000</td>\n",
       "    </tr>\n",
       "    <tr>\n",
       "      <th>1</th>\n",
       "      <td>2015-12-20</td>\n",
       "      <td>0.854415</td>\n",
       "      <td>10.912867</td>\n",
       "      <td>25.966902</td>\n",
       "      <td>211.278986</td>\n",
       "      <td>7.637408</td>\n",
       "      <td>97.496461</td>\n",
       "      <td>96.995206</td>\n",
       "      <td>9.873702</td>\n",
       "      <td>0.0</td>\n",
       "      <td>...</td>\n",
       "      <td>0</td>\n",
       "      <td>0</td>\n",
       "      <td>0</td>\n",
       "      <td>0</td>\n",
       "      <td>0</td>\n",
       "      <td>1</td>\n",
       "      <td>1</td>\n",
       "      <td>0</td>\n",
       "      <td>-2.449294e-16</td>\n",
       "      <td>1.000000</td>\n",
       "    </tr>\n",
       "    <tr>\n",
       "      <th>2</th>\n",
       "      <td>2015-12-13</td>\n",
       "      <td>0.657520</td>\n",
       "      <td>11.680313</td>\n",
       "      <td>28.190424</td>\n",
       "      <td>330.378071</td>\n",
       "      <td>11.423660</td>\n",
       "      <td>90.251593</td>\n",
       "      <td>89.678370</td>\n",
       "      <td>10.155787</td>\n",
       "      <td>0.0</td>\n",
       "      <td>...</td>\n",
       "      <td>0</td>\n",
       "      <td>0</td>\n",
       "      <td>0</td>\n",
       "      <td>0</td>\n",
       "      <td>0</td>\n",
       "      <td>1</td>\n",
       "      <td>1</td>\n",
       "      <td>0</td>\n",
       "      <td>-2.449294e-16</td>\n",
       "      <td>1.000000</td>\n",
       "    </tr>\n",
       "    <tr>\n",
       "      <th>3</th>\n",
       "      <td>2015-12-06</td>\n",
       "      <td>0.732368</td>\n",
       "      <td>11.277116</td>\n",
       "      <td>33.645208</td>\n",
       "      <td>268.284196</td>\n",
       "      <td>8.519390</td>\n",
       "      <td>76.230965</td>\n",
       "      <td>75.348524</td>\n",
       "      <td>11.565466</td>\n",
       "      <td>0.0</td>\n",
       "      <td>...</td>\n",
       "      <td>0</td>\n",
       "      <td>0</td>\n",
       "      <td>0</td>\n",
       "      <td>0</td>\n",
       "      <td>0</td>\n",
       "      <td>1</td>\n",
       "      <td>1</td>\n",
       "      <td>0</td>\n",
       "      <td>-2.449294e-16</td>\n",
       "      <td>1.000000</td>\n",
       "    </tr>\n",
       "    <tr>\n",
       "      <th>4</th>\n",
       "      <td>2015-11-29</td>\n",
       "      <td>0.824175</td>\n",
       "      <td>10.840377</td>\n",
       "      <td>30.683546</td>\n",
       "      <td>209.376193</td>\n",
       "      <td>8.705171</td>\n",
       "      <td>78.638095</td>\n",
       "      <td>77.370925</td>\n",
       "      <td>14.060228</td>\n",
       "      <td>0.0</td>\n",
       "      <td>...</td>\n",
       "      <td>0</td>\n",
       "      <td>0</td>\n",
       "      <td>0</td>\n",
       "      <td>0</td>\n",
       "      <td>0</td>\n",
       "      <td>1</td>\n",
       "      <td>1</td>\n",
       "      <td>0</td>\n",
       "      <td>-5.000000e-01</td>\n",
       "      <td>0.866025</td>\n",
       "    </tr>\n",
       "  </tbody>\n",
       "</table>\n",
       "<p>5 rows × 21 columns</p>\n",
       "</div>"
      ],
      "text/plain": [
       "        Date  AveragePrice  Total Volume       4046        4225       4770  \\\n",
       "0 2015-12-27      0.845868     11.070344  32.198447  233.355630   6.939741   \n",
       "1 2015-12-20      0.854415     10.912867  25.966902  211.278986   7.637408   \n",
       "2 2015-12-13      0.657520     11.680313  28.190424  330.378071  11.423660   \n",
       "3 2015-12-06      0.732368     11.277116  33.645208  268.284196   8.519390   \n",
       "4 2015-11-29      0.824175     10.840377  30.683546  209.376193   8.705171   \n",
       "\n",
       "   Total Bags  Small Bags  Large Bags  XLarge Bags  ...  region_0  region_1  \\\n",
       "0   93.257010   92.755701    9.656604          0.0  ...         0         0   \n",
       "1   97.496461   96.995206    9.873702          0.0  ...         0         0   \n",
       "2   90.251593   89.678370   10.155787          0.0  ...         0         0   \n",
       "3   76.230965   75.348524   11.565466          0.0  ...         0         0   \n",
       "4   78.638095   77.370925   14.060228          0.0  ...         0         0   \n",
       "\n",
       "   region_2  region_3  region_4  region_5  type_conventional  type_organic  \\\n",
       "0         0         0         0         1                  1             0   \n",
       "1         0         0         0         1                  1             0   \n",
       "2         0         0         0         1                  1             0   \n",
       "3         0         0         0         1                  1             0   \n",
       "4         0         0         0         1                  1             0   \n",
       "\n",
       "      Month_sin  Month_cos  \n",
       "0 -2.449294e-16   1.000000  \n",
       "1 -2.449294e-16   1.000000  \n",
       "2 -2.449294e-16   1.000000  \n",
       "3 -2.449294e-16   1.000000  \n",
       "4 -5.000000e-01   0.866025  \n",
       "\n",
       "[5 rows x 21 columns]"
      ]
     },
     "execution_count": 22,
     "metadata": {},
     "output_type": "execute_result"
    }
   ],
   "source": [
    "df.head()"
   ]
  },
  {
   "cell_type": "code",
   "execution_count": 23,
   "id": "92eeddf2",
   "metadata": {},
   "outputs": [
    {
     "data": {
      "text/plain": [
       "Index(['Date', 'AveragePrice', 'Total Volume', '4046', '4225', '4770',\n",
       "       'Total Bags', 'Small Bags', 'Large Bags', 'XLarge Bags', 'year',\n",
       "       'region_0', 'region_1', 'region_2', 'region_3', 'region_4', 'region_5',\n",
       "       'type_conventional', 'type_organic', 'Month_sin', 'Month_cos'],\n",
       "      dtype='object')"
      ]
     },
     "execution_count": 23,
     "metadata": {},
     "output_type": "execute_result"
    }
   ],
   "source": [
    "df.columns"
   ]
  },
  {
   "cell_type": "code",
   "execution_count": 24,
   "id": "b9763506-619d-4d0d-8646-e2697a92ad48",
   "metadata": {},
   "outputs": [],
   "source": [
    "import pandas as pd\n",
    "from sklearn.preprocessing import StandardScaler\n",
    "from sklearn.model_selection import train_test_split\n",
    "\n",
    "# Define the feature columns (excluding the target variable 'Region' and non-numeric columns)\n",
    "feature_columns = ['Total Volume', '4046', '4225', '4770',\n",
    "       'Total Bags', 'Small Bags', 'Large Bags', 'XLarge Bags', 'year',\n",
    "       'region_0', 'region_1', 'region_2', 'region_3', 'region_4', 'region_5',\n",
    "       'type_conventional', 'type_organic', 'Month_sin', 'Month_cos']\n",
    "\n",
    "# Define the target variable\n",
    "target_column = 'AveragePrice'\n",
    "\n",
    "# Split the data into features (X) and target (y)\n",
    "x = df[feature_columns]\n",
    "Y = df[target_column]"
   ]
  },
  {
   "cell_type": "code",
   "execution_count": 25,
   "id": "7d3bc0b7-20f6-412d-8fa0-1b97f8b78caa",
   "metadata": {},
   "outputs": [],
   "source": [
    "# Normalize the feature columns using StandardScaler\n",
    "scaler = StandardScaler()\n",
    "X = scaler.fit_transform(x)"
   ]
  },
  {
   "cell_type": "raw",
   "id": "74ed259d",
   "metadata": {},
   "source": [
    "Model Development"
   ]
  },
  {
   "cell_type": "code",
   "execution_count": 26,
   "id": "3e9ad5c0-0078-4b7b-90a7-235a12605dd2",
   "metadata": {},
   "outputs": [],
   "source": [
    "from sklearn.model_selection import train_test_split\n",
    "from sklearn.ensemble import RandomForestRegressor\n",
    "from sklearn.tree import DecisionTreeRegressor\n",
    "from sklearn.metrics import mean_squared_error\n",
    "from sklearn.metrics import mean_absolute_error\n",
    "from sklearn.metrics import r2_score\n",
    "from sklearn.metrics import accuracy_score \n",
    "from sklearn.linear_model import LinearRegression, Ridge, Lasso\n",
    "import matplotlib.pyplot as plt\n",
    "from sklearn.svm import SVR"
   ]
  },
  {
   "cell_type": "code",
   "execution_count": 27,
   "id": "b28d31a3-a6f9-460a-a663-8c7559e9fd91",
   "metadata": {},
   "outputs": [
    {
     "name": "stdout",
     "output_type": "stream",
     "text": [
      "Model: Linear Regression\n",
      "Mean Squared Error: 0.011868002132308032\n",
      "R-squared (R2): 0.5580214355841486\n",
      "Model: Ridge Regression\n",
      "Mean Squared Error: 0.011870295011327596\n",
      "R-squared (R2): 0.557936046032803\n",
      "Model: Lasso Regression\n",
      "Mean Squared Error: 0.02685209571528216\n",
      "R-squared (R2): -4.093653579451129e-06\n",
      "Model: Random Forest Regressor\n",
      "Mean Squared Error: 0.0027546179884431893\n",
      "R-squared (R2): 0.897414738346577\n",
      "Model: SVR\n",
      "Mean Squared Error: 0.011873165897636222\n",
      "R-squared (R2): 0.5578291308001344\n",
      "Model: Decision Tree Regressor\n",
      "Mean Squared Error: 0.005578479042123481\n",
      "R-squared (R2): 0.7922507822989279\n",
      "Best Model: Random Forest Regressor with R-squared (R2) score of 0.897414738346577\n"
     ]
    },
    {
     "data": {
      "image/png": "[encoded data removed]",
      "text/plain": [
       "<Figure size 800x600 with 1 Axes>"
      ]
     },
     "metadata": {},
     "output_type": "display_data"
    }
   ],
   "source": [
    "# Split the data into training and testing sets\n",
    "X_train, X_test, y_train, y_test = train_test_split(X,Y, test_size=0.2, random_state=112)\n",
    "\n",
    "# A list of regression models to evaluate for regression\n",
    "models = [\n",
    "    ('Linear Regression', LinearRegression()),\n",
    "    ('Ridge Regression', Ridge(alpha=1.0)),\n",
    "    ('Lasso Regression', Lasso(alpha=1.0)),\n",
    "    ('Random Forest Regressor', RandomForestRegressor(n_estimators=100)),\n",
    "    ('SVR', SVR(kernel='linear')),\n",
    "    ('Decision Tree Regressor', DecisionTreeRegressor())\n",
    "]\n",
    "\n",
    "# Initialize variables to keep track of the best model and its performance\n",
    "best_model = None\n",
    "best_score = -np.inf\n",
    "\n",
    "# Iterate through the models, fit them, and evaluate their performance\n",
    "for model_name, model in models:\n",
    "    model.fit(X_train, y_train)\n",
    "    y_pred = model.predict(X_test)\n",
    "    \n",
    "    # Calculate metrics (you can add more if needed)\n",
    "    mse = mean_squared_error(y_test, y_pred)\n",
    "    r2 = r2_score(y_test, y_pred)\n",
    "    \n",
    "    print(f'Model: {model_name}')\n",
    "    print(f'Mean Squared Error: {mse}')\n",
    "    print(f'R-squared (R2): {r2}')\n",
    "    \n",
    "    # Check if this model has the best performance so far\n",
    "    if r2 > best_score:\n",
    "        best_score = r2\n",
    "        best_model = model_name\n",
    "\n",
    "# Print the best model\n",
    "print(f'Best Model: {best_model} with R-squared (R2) score of {best_score}')\n",
    "\n",
    "# We can visualize the actual vs. predicted values for the best model\n",
    "best_model_index = [model[0] for model in models].index(best_model)\n",
    "best_model = models[best_model_index][1]\n",
    "y_pred_best = best_model.predict(X_test)\n",
    "\n",
    "plt.figure(figsize=(8, 6))\n",
    "plt.scatter(y_test, y_pred_best)\n",
    "plt.xlabel(\"Actual Values\")\n",
    "plt.ylabel(\"Predicted Values\")\n",
    "plt.title(f\"Actual vs. Predicted Values for {best_model}\")\n",
    "plt.show()"
   ]
  },
  {
   "cell_type": "raw",
   "id": "58a14f86",
   "metadata": {},
   "source": [
    "We can see that our model is predicted value and actual value draw linear relationship in between . "
   ]
  },
  {
   "cell_type": "raw",
   "id": "a9ece8d3",
   "metadata": {},
   "source": [
    "Hyper Parameter Tunning"
   ]
  },
  {
   "cell_type": "code",
   "execution_count": 29,
   "id": "6a199a99",
   "metadata": {},
   "outputs": [
    {
     "name": "stdout",
     "output_type": "stream",
     "text": [
      "Best Hyperparameters:\n",
      "{'max_depth': None, 'min_samples_leaf': 1, 'min_samples_split': 7, 'n_estimators': 77}\n",
      "Mean Squared Error: 0.0029459941056418385\n",
      "R-squared (R2): 0.8902876633258643\n"
     ]
    }
   ],
   "source": [
    "from sklearn.model_selection import RandomizedSearchCV\n",
    "from scipy.stats import randint\n",
    "\n",
    "# Define a parameter distribution for RandomizedSearchCV\n",
    "param_dist = {\n",
    "    'n_estimators': randint(50, 200),\n",
    "    'max_depth': [None, 10, 20, 30],\n",
    "    'min_samples_split': randint(2, 10),\n",
    "    'min_samples_leaf': randint(1, 4)\n",
    "}\n",
    "\n",
    "# Create a Random Forest Regressor model\n",
    "rf_regressor = RandomForestRegressor(random_state=112)\n",
    "\n",
    "# Perform Randomized Search Cross-Validation\n",
    "random_search = RandomizedSearchCV(estimator=rf_regressor, param_distributions=param_dist,\n",
    "                                   n_iter=10, scoring='r2', cv=5, n_jobs=-1)\n",
    "random_search.fit(X_train, y_train)\n",
    "\n",
    "# Get the best hyperparameters and model\n",
    "best_params = random_search.best_params_\n",
    "best_model = random_search.best_estimator_\n",
    "\n",
    "# Print the best hyperparameters\n",
    "print(\"Best Hyperparameters:\")\n",
    "print(best_params)\n",
    "\n",
    "# Evaluate the best model on the test set\n",
    "y_pred_best = best_model.predict(X_test)\n",
    "\n",
    "# Calculate metrics\n",
    "mse = mean_squared_error(y_test, y_pred_best)\n",
    "r2 = r2_score(y_test, y_pred_best)\n",
    "\n",
    "print(f'Mean Squared Error: {mse}')\n",
    "print(f'R-squared (R2): {r2}')\n"
   ]
  },
  {
   "cell_type": "raw",
   "id": "71f10deb",
   "metadata": {},
   "source": [
    "Cross Validation"
   ]
  },
  {
   "cell_type": "code",
   "execution_count": 30,
   "id": "bbd6143e",
   "metadata": {},
   "outputs": [
    {
     "name": "stdout",
     "output_type": "stream",
     "text": [
      "Cross Validation Score :\n",
      "Score : [-0.08725337  0.56937942  0.69989953  0.38737729  0.04652757]\n",
      "Mean Score : 0.3231860877901969\n",
      "Std deviation : 0.30054789126686354\n"
     ]
    }
   ],
   "source": [
    "from sklearn.model_selection import cross_val_score\n",
    "score = cross_val_score(best_model, X, Y, cv = 5)\n",
    "print('Cross Validation Score :')\n",
    "print(\"Score :\" ,score)\n",
    "print(\"Mean Score :\",score.mean())\n",
    "print(\"Std deviation :\",score.std())"
   ]
  },
  {
   "cell_type": "raw",
   "id": "ce1b7b84",
   "metadata": {},
   "source": [
    "Saving model"
   ]
  },
  {
   "cell_type": "code",
   "execution_count": 32,
   "id": "197d5770",
   "metadata": {},
   "outputs": [
    {
     "data": {
      "text/plain": [
       "['Avocado Project R.pkl']"
      ]
     },
     "execution_count": 32,
     "metadata": {},
     "output_type": "execute_result"
    }
   ],
   "source": [
    "import joblib\n",
    "joblib.dump(best_model,'Avocado Project R.pkl')"
   ]
  },
  {
   "cell_type": "raw",
   "id": "30012a33",
   "metadata": {},
   "source": [
    "Predicting the Final Model"
   ]
  },
  {
   "cell_type": "code",
   "execution_count": 37,
   "id": "22fe5404",
   "metadata": {},
   "outputs": [
    {
     "data": {
      "text/html": [
       "<div>\n",
       "<style scoped>\n",
       "    .dataframe tbody tr th:only-of-type {\n",
       "        vertical-align: middle;\n",
       "    }\n",
       "\n",
       "    .dataframe tbody tr th {\n",
       "        vertical-align: top;\n",
       "    }\n",
       "\n",
       "    .dataframe thead th {\n",
       "        text-align: right;\n",
       "    }\n",
       "</style>\n",
       "<table border=\"1\" class=\"dataframe\">\n",
       "  <thead>\n",
       "    <tr style=\"text-align: right;\">\n",
       "      <th></th>\n",
       "      <th>Actual average price</th>\n",
       "      <th>Predicted average price</th>\n",
       "    </tr>\n",
       "  </thead>\n",
       "  <tbody>\n",
       "    <tr>\n",
       "      <th>2826</th>\n",
       "      <td>0.887891</td>\n",
       "      <td>0.883795</td>\n",
       "    </tr>\n",
       "    <tr>\n",
       "      <th>17164</th>\n",
       "      <td>0.722706</td>\n",
       "      <td>0.776658</td>\n",
       "    </tr>\n",
       "    <tr>\n",
       "      <th>5785</th>\n",
       "      <td>0.887891</td>\n",
       "      <td>0.937172</td>\n",
       "    </tr>\n",
       "    <tr>\n",
       "      <th>16732</th>\n",
       "      <td>1.217876</td>\n",
       "      <td>1.067231</td>\n",
       "    </tr>\n",
       "    <tr>\n",
       "      <th>10339</th>\n",
       "      <td>0.891998</td>\n",
       "      <td>0.941636</td>\n",
       "    </tr>\n",
       "    <tr>\n",
       "      <th>5937</th>\n",
       "      <td>0.722706</td>\n",
       "      <td>0.730039</td>\n",
       "    </tr>\n",
       "    <tr>\n",
       "      <th>2038</th>\n",
       "      <td>0.683097</td>\n",
       "      <td>0.702497</td>\n",
       "    </tr>\n",
       "    <tr>\n",
       "      <th>14562</th>\n",
       "      <td>0.858662</td>\n",
       "      <td>0.863565</td>\n",
       "    </tr>\n",
       "    <tr>\n",
       "      <th>7368</th>\n",
       "      <td>0.494696</td>\n",
       "      <td>0.491866</td>\n",
       "    </tr>\n",
       "    <tr>\n",
       "      <th>8419</th>\n",
       "      <td>0.506818</td>\n",
       "      <td>0.603816</td>\n",
       "    </tr>\n",
       "  </tbody>\n",
       "</table>\n",
       "</div>"
      ],
      "text/plain": [
       "       Actual average price  Predicted average price\n",
       "2826               0.887891                 0.883795\n",
       "17164              0.722706                 0.776658\n",
       "5785               0.887891                 0.937172\n",
       "16732              1.217876                 1.067231\n",
       "10339              0.891998                 0.941636\n",
       "5937               0.722706                 0.730039\n",
       "2038               0.683097                 0.702497\n",
       "14562              0.858662                 0.863565\n",
       "7368               0.494696                 0.491866\n",
       "8419               0.506818                 0.603816"
      ]
     },
     "execution_count": 37,
     "metadata": {},
     "output_type": "execute_result"
    }
   ],
   "source": [
    "actual_costs= y_test\n",
    "\n",
    "# Make predictions for the selected data points\n",
    "Pre_average_price = best_model.predict(X_test)\n",
    "\n",
    "# Create a DataFrame to display the results\n",
    "result_df = pd.DataFrame({\n",
    "    'Actual average price': actual_costs,\n",
    "    'Predicted average price': Pre_average_price\n",
    "})\n",
    "\n",
    "result_df.head(10)"
   ]
  },
  {
   "cell_type": "code",
   "execution_count": 38,
   "id": "1b91f3db",
   "metadata": {},
   "outputs": [
    {
     "data": {
      "image/png": "[encoded data removed]",
      "text/plain": [
       "<Figure size 1000x600 with 1 Axes>"
      ]
     },
     "metadata": {},
     "output_type": "display_data"
    }
   ],
   "source": [
    "# Make predictions on the test set\n",
    "y_pred = best_model.predict(X_test)\n",
    "\n",
    "# Create a scatter plot of actual vs. predicted average price\n",
    "plt.figure(figsize=(10, 6))\n",
    "plt.scatter(y_test, y_pred, alpha=0.5)\n",
    "plt.plot([min(y_test), max(y_test)], [min(y_test), max(y_test)], linestyle='--', color='red', linewidth=2)\n",
    "plt.xlabel(\"Actual Average price\")\n",
    "plt.ylabel(\"Predicted Average price\")\n",
    "plt.title(\"Actual vs. Predicted Average price\")\n",
    "plt.grid(True)\n",
    "plt.show()"
   ]
  },
  {
   "cell_type": "code",
   "execution_count": null,
   "id": "d54a69b4",
   "metadata": {},
   "outputs": [],
   "source": [
    "We can see that the model prediction is good and its make linear relationship with actual and predicted average price."
   ]
  },
  {
   "cell_type": "code",
   "execution_count": null,
   "id": "5e80338d-7d1e-4800-8abf-d1b9a475b353",
   "metadata": {},
   "outputs": [],
   "source": []
  },
  {
   "cell_type": "code",
   "execution_count": null,
   "id": "91194dae-33fb-4b20-a9b7-7891cce0b9d6",
   "metadata": {},
   "outputs": [],
   "source": []
  },
  {
   "cell_type": "code",
   "execution_count": null,
   "id": "d628a59b-e126-435a-8d46-e242828146b6",
   "metadata": {},
   "outputs": [],
   "source": []
  },
  {
   "cell_type": "code",
   "execution_count": null,
   "id": "2692b37e-26ad-4746-96fa-ddf982ec5362",
   "metadata": {},
   "outputs": [],
   "source": []
  },
  {
   "cell_type": "code",
   "execution_count": null,
   "id": "99488941-d29e-48ae-9c11-f9914992aeca",
   "metadata": {},
   "outputs": [],
   "source": []
  },
  {
   "cell_type": "code",
   "execution_count": null,
   "id": "e1b88612-24ef-4ea5-8637-817925bd284b",
   "metadata": {},
   "outputs": [],
   "source": []
  },
  {
   "cell_type": "code",
   "execution_count": null,
   "id": "780598b4-3660-4d28-9b14-9581d5635305",
   "metadata": {},
   "outputs": [],
   "source": []
  },
  {
   "cell_type": "code",
   "execution_count": null,
   "id": "b4110c25-1f6d-4344-a9f2-b24f73ac840a",
   "metadata": {},
   "outputs": [],
   "source": []
  },
  {
   "cell_type": "code",
   "execution_count": null,
   "id": "b9e8a8c6-c57e-40f0-9509-68cf32a625d3",
   "metadata": {},
   "outputs": [],
   "source": []
  },
  {
   "cell_type": "code",
   "execution_count": null,
   "id": "dc28a4a3-f89d-458e-8d1d-038f9d294f39",
   "metadata": {},
   "outputs": [],
   "source": []
  },
  {
   "cell_type": "code",
   "execution_count": null,
   "id": "753063e0-f832-42a6-9aaa-a93f909b582b",
   "metadata": {},
   "outputs": [],
   "source": []
  },
  {
   "cell_type": "code",
   "execution_count": null,
   "id": "86b214b7-afa0-4a4c-8b83-f93251135dd4",
   "metadata": {},
   "outputs": [],
   "source": []
  },
  {
   "cell_type": "code",
   "execution_count": null,
   "id": "0e521188-bc72-416f-a240-af4d8a714883",
   "metadata": {},
   "outputs": [],
   "source": []
  },
  {
   "cell_type": "code",
   "execution_count": null,
   "id": "148c4d9f-0338-42d8-9a1a-4edc79201270",
   "metadata": {},
   "outputs": [],
   "source": []
  },
  {
   "cell_type": "code",
   "execution_count": null,
   "id": "d14d7dfe-8f5d-4b63-9985-10d77b714b81",
   "metadata": {},
   "outputs": [],
   "source": []
  },
  {
   "cell_type": "code",
   "execution_count": null,
   "id": "2aa448b0-bea3-4c05-b053-13ac029a6847",
   "metadata": {},
   "outputs": [],
   "source": []
  },
  {
   "cell_type": "code",
   "execution_count": null,
   "id": "f3ad25af-d215-4a77-983e-fd407c4db527",
   "metadata": {},
   "outputs": [],
   "source": []
  },
  {
   "cell_type": "code",
   "execution_count": null,
   "id": "6cabe54f-2526-4909-ba71-c50870d5f9e9",
   "metadata": {},
   "outputs": [],
   "source": []
  },
  {
   "cell_type": "code",
   "execution_count": null,
   "id": "7b17f50b-2ca7-42a2-81b0-8b8d62e0e9af",
   "metadata": {},
   "outputs": [],
   "source": []
  }
 ],
 "metadata": {
  "kernelspec": {
   "display_name": "Python 3 (ipykernel)",
   "language": "python",
   "name": "python3"
  },
  "language_info": {
   "codemirror_mode": {
    "name": "ipython",
    "version": 3
   },
   "file_extension": ".py",
   "mimetype": "text/x-python",
   "name": "python",
   "nbconvert_exporter": "python",
   "pygments_lexer": "ipython3",
   "version": "3.10.9"
  }
 },
 "nbformat": 4,
 "nbformat_minor": 5
}
